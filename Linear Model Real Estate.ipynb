{
 "cells": [
  {
   "cell_type": "markdown",
   "metadata": {},
   "source": [
    "# Regression\n",
    "### 1. Reading the Dataset ¶ "
   ]
  },
  {
   "cell_type": "code",
   "execution_count": 613,
   "metadata": {},
   "outputs": [
    {
     "data": {
      "text/html": [
       "<div>\n",
       "<style scoped>\n",
       "    .dataframe tbody tr th:only-of-type {\n",
       "        vertical-align: middle;\n",
       "    }\n",
       "\n",
       "    .dataframe tbody tr th {\n",
       "        vertical-align: top;\n",
       "    }\n",
       "\n",
       "    .dataframe thead th {\n",
       "        text-align: right;\n",
       "    }\n",
       "</style>\n",
       "<table border=\"1\" class=\"dataframe\">\n",
       "  <thead>\n",
       "    <tr style=\"text-align: right;\">\n",
       "      <th></th>\n",
       "      <th>id</th>\n",
       "      <th>Вулиця</th>\n",
       "      <th>Район</th>\n",
       "      <th>Місто</th>\n",
       "      <th>Область</th>\n",
       "      <th>Дата</th>\n",
       "      <th>Тип нерухомості</th>\n",
       "      <th>Ціна</th>\n",
       "      <th>Тип ціни</th>\n",
       "      <th>Кімнат</th>\n",
       "      <th>...</th>\n",
       "      <th>Загальна площа</th>\n",
       "      <th>Житлова площа</th>\n",
       "      <th>Кухня</th>\n",
       "      <th>Стіни</th>\n",
       "      <th>Назва</th>\n",
       "      <th>Соток</th>\n",
       "      <th>Агенція</th>\n",
       "      <th>Користувач</th>\n",
       "      <th>Телефон</th>\n",
       "      <th>Опис</th>\n",
       "    </tr>\n",
       "  </thead>\n",
       "  <tbody>\n",
       "    <tr>\n",
       "      <th>0</th>\n",
       "      <td>0</td>\n",
       "      <td>Бандеры Степана улица</td>\n",
       "      <td>Галицький</td>\n",
       "      <td>Львів</td>\n",
       "      <td>Львівська</td>\n",
       "      <td>2018-10-12 14:40:23</td>\n",
       "      <td>Квартира</td>\n",
       "      <td>38000</td>\n",
       "      <td>$</td>\n",
       "      <td>2</td>\n",
       "      <td>...</td>\n",
       "      <td>51,1</td>\n",
       "      <td>15,5</td>\n",
       "      <td>16,5</td>\n",
       "      <td>цегла</td>\n",
       "      <td>NaN</td>\n",
       "      <td>NaN</td>\n",
       "      <td>NaN</td>\n",
       "      <td>Сергій</td>\n",
       "      <td>(095) 521-37-51</td>\n",
       "      <td>Продам 2-х комнатную квартиру по ул. Степана Б...</td>\n",
       "    </tr>\n",
       "    <tr>\n",
       "      <th>1</th>\n",
       "      <td>1</td>\n",
       "      <td>Беговая улица</td>\n",
       "      <td>Личаківський</td>\n",
       "      <td>Львів</td>\n",
       "      <td>Львівська</td>\n",
       "      <td>2018-09-10 09:59:47</td>\n",
       "      <td>Квартира</td>\n",
       "      <td>983614</td>\n",
       "      <td>грн</td>\n",
       "      <td>2</td>\n",
       "      <td>...</td>\n",
       "      <td>65,14</td>\n",
       "      <td>28,69</td>\n",
       "      <td>9,9</td>\n",
       "      <td>монолітно-цегляний</td>\n",
       "      <td>NaN</td>\n",
       "      <td>NaN</td>\n",
       "      <td>ЖК Щасливий</td>\n",
       "      <td>Відділ продажу Щасливий</td>\n",
       "      <td>(032) 294-94-80, (067) 663-99-51</td>\n",
       "      <td>Подключены коммуникации, интернет, работающие ...</td>\n",
       "    </tr>\n",
       "    <tr>\n",
       "      <th>2</th>\n",
       "      <td>2</td>\n",
       "      <td>Беговая улица, 17</td>\n",
       "      <td>Личаківський</td>\n",
       "      <td>Львів</td>\n",
       "      <td>Львівська</td>\n",
       "      <td>2018-09-10 10:00:56</td>\n",
       "      <td>Квартира</td>\n",
       "      <td>583730</td>\n",
       "      <td>грн</td>\n",
       "      <td>1</td>\n",
       "      <td>...</td>\n",
       "      <td>37,66</td>\n",
       "      <td>16,29</td>\n",
       "      <td>9,68</td>\n",
       "      <td>монолітно-цегляний</td>\n",
       "      <td>NaN</td>\n",
       "      <td>NaN</td>\n",
       "      <td>ЖК Щасливий</td>\n",
       "      <td>Відділ продажу Щасливий</td>\n",
       "      <td>(032) 294-94-80, (067) 663-99-51</td>\n",
       "      <td>Подключены коммуникации, интернет, работающие ...</td>\n",
       "    </tr>\n",
       "    <tr>\n",
       "      <th>3</th>\n",
       "      <td>3</td>\n",
       "      <td>Беговая улица</td>\n",
       "      <td>Личаківський</td>\n",
       "      <td>Львів</td>\n",
       "      <td>Львівська</td>\n",
       "      <td>2018-09-10 10:00:29</td>\n",
       "      <td>Квартира</td>\n",
       "      <td>613211</td>\n",
       "      <td>грн</td>\n",
       "      <td>1</td>\n",
       "      <td>...</td>\n",
       "      <td>40,61</td>\n",
       "      <td>19,04</td>\n",
       "      <td>9,56</td>\n",
       "      <td>монолітно-цегляний</td>\n",
       "      <td>NaN</td>\n",
       "      <td>NaN</td>\n",
       "      <td>ЖК Щасливий</td>\n",
       "      <td>Відділ продажу Щасливий</td>\n",
       "      <td>(032) 294-94-80, (067) 663-99-51</td>\n",
       "      <td>Подключены коммуникации, интернет, работающие ...</td>\n",
       "    </tr>\n",
       "    <tr>\n",
       "      <th>4</th>\n",
       "      <td>6</td>\n",
       "      <td>Беговая улица</td>\n",
       "      <td>Личаківський</td>\n",
       "      <td>Львів</td>\n",
       "      <td>Львівська</td>\n",
       "      <td>2018-09-05 15:40:30</td>\n",
       "      <td>Квартира</td>\n",
       "      <td>628160</td>\n",
       "      <td>грн</td>\n",
       "      <td>1</td>\n",
       "      <td>...</td>\n",
       "      <td>41,6</td>\n",
       "      <td>16,9</td>\n",
       "      <td>10,5</td>\n",
       "      <td>цегла</td>\n",
       "      <td>NaN</td>\n",
       "      <td>NaN</td>\n",
       "      <td>ЖК Щасливий</td>\n",
       "      <td>Відділ продажу Щасливий</td>\n",
       "      <td>(032) 294-94-80, (067) 663-99-51</td>\n",
       "      <td>Подключены коммуникации, интернет, работающие ...</td>\n",
       "    </tr>\n",
       "  </tbody>\n",
       "</table>\n",
       "<p>5 rows × 22 columns</p>\n",
       "</div>"
      ],
      "text/plain": [
       "   id                 Вулиця         Район  Місто    Область  \\\n",
       "0   0  Бандеры Степана улица     Галицький  Львів  Львівська   \n",
       "1   1          Беговая улица  Личаківський  Львів  Львівська   \n",
       "2   2      Беговая улица, 17  Личаківський  Львів  Львівська   \n",
       "3   3          Беговая улица  Личаківський  Львів  Львівська   \n",
       "4   6          Беговая улица  Личаківський  Львів  Львівська   \n",
       "\n",
       "                  Дата Тип нерухомості    Ціна Тип ціни  Кімнат  ...  \\\n",
       "0  2018-10-12 14:40:23        Квартира   38000        $       2  ...   \n",
       "1  2018-09-10 09:59:47        Квартира  983614      грн       2  ...   \n",
       "2  2018-09-10 10:00:56        Квартира  583730      грн       1  ...   \n",
       "3  2018-09-10 10:00:29        Квартира  613211      грн       1  ...   \n",
       "4  2018-09-05 15:40:30        Квартира  628160      грн       1  ...   \n",
       "\n",
       "   Загальна площа  Житлова площа Кухня               Стіни Назва Соток  \\\n",
       "0            51,1           15,5  16,5               цегла   NaN   NaN   \n",
       "1           65,14          28,69   9,9  монолітно-цегляний   NaN   NaN   \n",
       "2           37,66          16,29  9,68  монолітно-цегляний   NaN   NaN   \n",
       "3           40,61          19,04  9,56  монолітно-цегляний   NaN   NaN   \n",
       "4            41,6           16,9  10,5               цегла   NaN   NaN   \n",
       "\n",
       "       Агенція               Користувач                           Телефон  \\\n",
       "0          NaN                   Сергій                   (095) 521-37-51   \n",
       "1  ЖК Щасливий  Відділ продажу Щасливий  (032) 294-94-80, (067) 663-99-51   \n",
       "2  ЖК Щасливий  Відділ продажу Щасливий  (032) 294-94-80, (067) 663-99-51   \n",
       "3  ЖК Щасливий  Відділ продажу Щасливий  (032) 294-94-80, (067) 663-99-51   \n",
       "4  ЖК Щасливий  Відділ продажу Щасливий  (032) 294-94-80, (067) 663-99-51   \n",
       "\n",
       "                                                Опис  \n",
       "0  Продам 2-х комнатную квартиру по ул. Степана Б...  \n",
       "1  Подключены коммуникации, интернет, работающие ...  \n",
       "2  Подключены коммуникации, интернет, работающие ...  \n",
       "3  Подключены коммуникации, интернет, работающие ...  \n",
       "4  Подключены коммуникации, интернет, работающие ...  \n",
       "\n",
       "[5 rows x 22 columns]"
      ]
     },
     "execution_count": 613,
     "metadata": {},
     "output_type": "execute_result"
    }
   ],
   "source": [
    "import pandas as pd\n",
    "df_real_estate = pd.read_csv('real-estate-regression.csv')\n",
    "df_real_estate.head()"
   ]
  },
  {
   "cell_type": "markdown",
   "metadata": {},
   "source": [
    "### 2. Overview\n",
    "Columns:\n",
    "* **id** - id of the data row\n",
    "* **Вулиця** - the name of the street\n",
    "* **Район** - the area of the city\n",
    "* **Місто** - the city\n",
    "* **Область** - the city area\n",
    "* **Дата** - the date of the estate being posted on the data base\n",
    "* **Тип нерухомості** - the type of the real estate\n",
    "* **Ціна** - the price\n",
    "* **Тип ціни** - the currency\n",
    "* **Кімнат** - the number of rooms\n",
    "* **Поверх** - the floor of the real estate\n",
    "* **Поверховість** - the number of the floors in the estate\n",
    "* **Загальна площа** - the area of the estate\n",
    "* **Житлова площа** - the area of the estate inside\n",
    "* **Кухня** - the kitchen area\n",
    "* **Стіни** - the walls material\n",
    "* **Назва** - the name of the real estate\n",
    "* **Соток** - the area (1 sotka = 10 x 10 = 100 m2)\n",
    "* **Агенція** - the agency of the real estate\n",
    "* **Користувач** - the person or the agency that is selling\n",
    "* **Телефон** - the phone number\n",
    "* **Опис** - the description of the real estate"
   ]
  },
  {
   "cell_type": "code",
   "execution_count": 614,
   "metadata": {},
   "outputs": [],
   "source": [
    "# data science\n",
    "import numpy as np\n",
    "import pandas as pd\n",
    "import matplotlib.pyplot as plt\n",
    "import seaborn as sns\n",
    "# regression models\n",
    "from sklearn.preprocessing import StandardScaler # for feature scaling\n",
    "from sklearn.pipeline import Pipeline # for using pipeline\n",
    "from sklearn.linear_model import LinearRegression # for linear regression\n",
    "from sklearn.preprocessing import PolynomialFeatures # for adding polynomial features\n",
    "from sklearn.linear_model import Ridge # for ridge regression\n",
    "from sklearn.linear_model import Lasso # for lasso regression\n",
    "from sklearn.svm import SVR # for support vector regression\n",
    "from sklearn.tree import DecisionTreeRegressor # for decisiton tree regression\n",
    "from sklearn.ensemble import RandomForestRegressor # for random forest regression\n",
    "from sklearn.model_selection import train_test_split\n",
    "from sklearn.impute import SimpleImputer\n",
    "from sklearn.base import BaseEstimator,TransformerMixin,RegressorMixin\n",
    "# hyptertuning\n",
    "from sklearn.model_selection import GridSearchCV\n",
    "from sklearn.model_selection import RandomizedSearchCV\n",
    "from scipy.stats import randint as sp_randint\n",
    "# extra\n",
    "from scipy import stats\n",
    "from sklearn.metrics import r2_score\n",
    "from sklearn.metrics import mean_squared_error\n",
    "from sklearn.model_selection import cross_val_score\n",
    "from collections import Counter\n",
    "from IPython.core.display import display, HTML\n",
    "sns.set_style('darkgrid')"
   ]
  },
  {
   "cell_type": "markdown",
   "metadata": {},
   "source": [
    "### 3. Data Investigation"
   ]
  },
  {
   "cell_type": "code",
   "execution_count": 615,
   "metadata": {},
   "outputs": [
    {
     "data": {
      "text/plain": [
       "id                 1615\n",
       "Вулиця             1576\n",
       "Район              1551\n",
       "Місто              1615\n",
       "Область            1615\n",
       "Дата               1615\n",
       "Тип нерухомості    1615\n",
       "Ціна               1615\n",
       "Тип ціни           1615\n",
       "Кімнат             1615\n",
       "Поверх             1615\n",
       "Поверховість       1615\n",
       "Загальна площа     1615\n",
       "Житлова площа      1312\n",
       "Кухня              1392\n",
       "Стіни              1615\n",
       "Назва                 0\n",
       "Соток                 0\n",
       "Агенція             761\n",
       "Користувач         1305\n",
       "Телефон            1615\n",
       "Опис                674\n",
       "dtype: int64"
      ]
     },
     "execution_count": 615,
     "metadata": {},
     "output_type": "execute_result"
    }
   ],
   "source": [
    "df_real_estate.count()"
   ]
  },
  {
   "cell_type": "markdown",
   "metadata": {},
   "source": [
    "We'll change all the currencies to be dollars."
   ]
  },
  {
   "cell_type": "code",
   "execution_count": 616,
   "metadata": {},
   "outputs": [],
   "source": [
    "# const\n",
    "uah = 28.16\n",
    "df_real_estate.loc[(df_real_estate[\"Тип ціни\"] == '$'), \"Ціна\"] =\\\n",
    "df_real_estate[df_real_estate['Тип ціни'] == '$']['Ціна'].map(lambda price: uah * price)\n",
    "df_real_estate.\\\n",
    "drop(['Тип нерухомості', 'Тип ціни', 'Назва', 'Соток', 'id', 'Область', 'Місто', 'Телефон'], axis=1, inplace=True)"
   ]
  },
  {
   "cell_type": "markdown",
   "metadata": {},
   "source": [
    "We can see that `Назва` and `Соток` can be dropped from the dataset.\\\n",
    "We'll drop the `id` column, because it would spoil the result of the data correlation.\\\n",
    "There is just one city `Lviv` in dataset, so we wouldn't need this column.\\\n",
    "This data only includes houses, like `flat`, so we'll drop column of type of the institution.\n",
    "All the flats have phone numbers, so we'll drop `Телефон`"
   ]
  },
  {
   "cell_type": "code",
   "execution_count": 617,
   "metadata": {},
   "outputs": [
    {
     "data": {
      "text/html": [
       "<div>\n",
       "<style scoped>\n",
       "    .dataframe tbody tr th:only-of-type {\n",
       "        vertical-align: middle;\n",
       "    }\n",
       "\n",
       "    .dataframe tbody tr th {\n",
       "        vertical-align: top;\n",
       "    }\n",
       "\n",
       "    .dataframe thead th {\n",
       "        text-align: right;\n",
       "    }\n",
       "</style>\n",
       "<table border=\"1\" class=\"dataframe\">\n",
       "  <thead>\n",
       "    <tr style=\"text-align: right;\">\n",
       "      <th></th>\n",
       "      <th>Вулиця</th>\n",
       "      <th>Район</th>\n",
       "      <th>Дата</th>\n",
       "      <th>Ціна</th>\n",
       "      <th>Кімнат</th>\n",
       "      <th>Поверх</th>\n",
       "      <th>Поверховість</th>\n",
       "      <th>Загальна площа</th>\n",
       "      <th>Житлова площа</th>\n",
       "      <th>Кухня</th>\n",
       "      <th>Стіни</th>\n",
       "    </tr>\n",
       "  </thead>\n",
       "  <tbody>\n",
       "    <tr>\n",
       "      <th>0</th>\n",
       "      <td>Бандеры Степана улица</td>\n",
       "      <td>Галицький</td>\n",
       "      <td>2018-10-12 14:40:23</td>\n",
       "      <td>1070080.0</td>\n",
       "      <td>2</td>\n",
       "      <td>5</td>\n",
       "      <td>5</td>\n",
       "      <td>51,1</td>\n",
       "      <td>15,5</td>\n",
       "      <td>16,5</td>\n",
       "      <td>цегла</td>\n",
       "    </tr>\n",
       "    <tr>\n",
       "      <th>1</th>\n",
       "      <td>Беговая улица</td>\n",
       "      <td>Личаківський</td>\n",
       "      <td>2018-09-10 09:59:47</td>\n",
       "      <td>983614.0</td>\n",
       "      <td>2</td>\n",
       "      <td>9</td>\n",
       "      <td>16</td>\n",
       "      <td>65,14</td>\n",
       "      <td>28,69</td>\n",
       "      <td>9,9</td>\n",
       "      <td>монолітно-цегляний</td>\n",
       "    </tr>\n",
       "    <tr>\n",
       "      <th>2</th>\n",
       "      <td>Беговая улица, 17</td>\n",
       "      <td>Личаківський</td>\n",
       "      <td>2018-09-10 10:00:56</td>\n",
       "      <td>583730.0</td>\n",
       "      <td>1</td>\n",
       "      <td>15</td>\n",
       "      <td>16</td>\n",
       "      <td>37,66</td>\n",
       "      <td>16,29</td>\n",
       "      <td>9,68</td>\n",
       "      <td>монолітно-цегляний</td>\n",
       "    </tr>\n",
       "  </tbody>\n",
       "</table>\n",
       "</div>"
      ],
      "text/plain": [
       "                  Вулиця         Район                 Дата       Ціна  \\\n",
       "0  Бандеры Степана улица     Галицький  2018-10-12 14:40:23  1070080.0   \n",
       "1          Беговая улица  Личаківський  2018-09-10 09:59:47   983614.0   \n",
       "2      Беговая улица, 17  Личаківський  2018-09-10 10:00:56   583730.0   \n",
       "\n",
       "   Кімнат  Поверх  Поверховість Загальна площа Житлова площа Кухня  \\\n",
       "0       2       5             5           51,1          15,5  16,5   \n",
       "1       2       9            16          65,14         28,69   9,9   \n",
       "2       1      15            16          37,66         16,29  9,68   \n",
       "\n",
       "                Стіни  \n",
       "0               цегла  \n",
       "1  монолітно-цегляний  \n",
       "2  монолітно-цегляний  "
      ]
     },
     "execution_count": 617,
     "metadata": {},
     "output_type": "execute_result"
    }
   ],
   "source": [
    "df_real_estate.drop(['Агенція', 'Користувач', 'Опис'], axis=1, inplace=True)\n",
    "df_real_estate.head(3)"
   ]
  },
  {
   "cell_type": "code",
   "execution_count": 618,
   "metadata": {},
   "outputs": [],
   "source": [
    "def col_to_float(df_c, name):\n",
    "    return df_c[name].\\\n",
    "    map(lambda area: float(area.replace(',', '.')) if isinstance(area, str) else area)\n",
    "\n",
    "df_real_estate['Загальна площа'] = col_to_float(df_real_estate, 'Загальна площа')\n",
    "df_real_estate['Житлова площа'] = col_to_float(df_real_estate, 'Житлова площа')\n",
    "df_real_estate['Кухня'] = col_to_float(df_real_estate, 'Кухня')\n",
    "df_real_estate['price_per_m'] = round(df_real_estate['Ціна']/df_real_estate['Загальна площа'], 2)"
   ]
  },
  {
   "cell_type": "code",
   "execution_count": 619,
   "metadata": {},
   "outputs": [
    {
     "data": {
      "text/plain": [
       "array([[<matplotlib.axes._subplots.AxesSubplot object at 0x7fa67ae3ce10>,\n",
       "        <matplotlib.axes._subplots.AxesSubplot object at 0x7fa67ac289d0>,\n",
       "        <matplotlib.axes._subplots.AxesSubplot object at 0x7fa67ae97cd0>],\n",
       "       [<matplotlib.axes._subplots.AxesSubplot object at 0x7fa67d27d810>,\n",
       "        <matplotlib.axes._subplots.AxesSubplot object at 0x7fa67d54c790>,\n",
       "        <matplotlib.axes._subplots.AxesSubplot object at 0x7fa67d57fe10>],\n",
       "       [<matplotlib.axes._subplots.AxesSubplot object at 0x7fa67d5be650>,\n",
       "        <matplotlib.axes._subplots.AxesSubplot object at 0x7fa67d5f3e50>,\n",
       "        <matplotlib.axes._subplots.AxesSubplot object at 0x7fa67d5fc9d0>]],\n",
       "      dtype=object)"
      ]
     },
     "execution_count": 619,
     "metadata": {},
     "output_type": "execute_result"
    },
    {
     "data": {
      "image/png": "[encoded data removed]",
      "text/plain": [
       "<Figure size 1080x720 with 9 Axes>"
      ]
     },
     "metadata": {},
     "output_type": "display_data"
    }
   ],
   "source": [
    "df_real_estate.hist(bins=50,figsize=(15,10))"
   ]
  },
  {
   "cell_type": "markdown",
   "metadata": {},
   "source": [
    "Better for the linear regrssion is to remove `Поверховість`, us it makes the linear regression hesitate about the line."
   ]
  },
  {
   "cell_type": "code",
   "execution_count": 620,
   "metadata": {
    "scrolled": false
   },
   "outputs": [],
   "source": [
    "df_real_estate.drop(['Поверховість'], axis=1, inplace=True)"
   ]
  },
  {
   "cell_type": "markdown",
   "metadata": {},
   "source": [
    "### Remove null values"
   ]
  },
  {
   "cell_type": "code",
   "execution_count": 621,
   "metadata": {},
   "outputs": [
    {
     "data": {
      "text/plain": [
       "Вулиця             39\n",
       "Район              64\n",
       "Дата                0\n",
       "Ціна                0\n",
       "Кімнат              0\n",
       "Поверх              0\n",
       "Загальна площа      0\n",
       "Житлова площа     303\n",
       "Кухня             223\n",
       "Стіни               0\n",
       "price_per_m         0\n",
       "dtype: int64"
      ]
     },
     "execution_count": 621,
     "metadata": {},
     "output_type": "execute_result"
    }
   ],
   "source": [
    "df_real_estate.isnull().sum()"
   ]
  },
  {
   "cell_type": "code",
   "execution_count": 622,
   "metadata": {},
   "outputs": [
    {
     "data": {
      "text/plain": [
       "array([[<matplotlib.axes._subplots.AxesSubplot object at 0x7fa67f5b7fd0>]],\n",
       "      dtype=object)"
      ]
     },
     "execution_count": 622,
     "metadata": {},
     "output_type": "execute_result"
    },
    {
     "data": {
      "image/png": "[encoded data removed]",
      "text/plain": [
       "<Figure size 432x288 with 1 Axes>"
      ]
     },
     "metadata": {},
     "output_type": "display_data"
    },
    {
     "data": {
      "image/png": "[encoded data removed]",
      "text/plain": [
       "<Figure size 432x288 with 1 Axes>"
      ]
     },
     "metadata": {},
     "output_type": "display_data"
    }
   ],
   "source": [
    "df_real_estate.hist(column='price_per_m',bins=30)\n",
    "df_real_estate.hist(column='Ціна',bins=30)"
   ]
  },
  {
   "cell_type": "markdown",
   "metadata": {},
   "source": [
    "As the distributions of `price_per_m` and `Ціна` are skewed, it's better to replace `null` values by **median**. (sklearn's Imputer)"
   ]
  },
  {
   "cell_type": "code",
   "execution_count": 623,
   "metadata": {},
   "outputs": [
    {
     "data": {
      "text/plain": [
       "array([[<matplotlib.axes._subplots.AxesSubplot object at 0x7fa67f5b7710>]],\n",
       "      dtype=object)"
      ]
     },
     "execution_count": 623,
     "metadata": {},
     "output_type": "execute_result"
    },
    {
     "data": {
      "image/png": "[encoded data removed]",
      "text/plain": [
       "<Figure size 432x288 with 1 Axes>"
      ]
     },
     "metadata": {},
     "output_type": "display_data"
    },
    {
     "data": {
      "image/png": "[encoded data removed]",
      "text/plain": [
       "<Figure size 432x288 with 1 Axes>"
      ]
     },
     "metadata": {},
     "output_type": "display_data"
    }
   ],
   "source": [
    "df_real_estate.hist(column='Житлова площа',bins=30)\n",
    "df_real_estate.hist(column='Кухня',bins=30)"
   ]
  },
  {
   "cell_type": "code",
   "execution_count": 624,
   "metadata": {},
   "outputs": [],
   "source": [
    "in_area = SimpleImputer(missing_values=np.nan, strategy='median')\n",
    "df_real_estate[['Житлова площа']] = in_area.fit_transform(df_real_estate[['Житлова площа']])\n",
    "df_real_estate[['Кухня']] = in_area.fit_transform(df_real_estate[['Кухня']])"
   ]
  },
  {
   "cell_type": "code",
   "execution_count": 625,
   "metadata": {},
   "outputs": [],
   "source": [
    "df_real_estate.drop(['Вулиця'], axis=1, inplace=True)\n",
    "df_real_estate = df_real_estate[df_real_estate['Район'].notna()]"
   ]
  },
  {
   "cell_type": "code",
   "execution_count": 626,
   "metadata": {},
   "outputs": [
    {
     "data": {
      "text/plain": [
       "Район             0\n",
       "Дата              0\n",
       "Ціна              0\n",
       "Кімнат            0\n",
       "Поверх            0\n",
       "Загальна площа    0\n",
       "Житлова площа     0\n",
       "Кухня             0\n",
       "Стіни             0\n",
       "price_per_m       0\n",
       "dtype: int64"
      ]
     },
     "execution_count": 626,
     "metadata": {},
     "output_type": "execute_result"
    }
   ],
   "source": [
    "df_real_estate.isnull().sum()"
   ]
  },
  {
   "cell_type": "markdown",
   "metadata": {},
   "source": [
    "### Removing outliers"
   ]
  },
  {
   "cell_type": "code",
   "execution_count": 627,
   "metadata": {},
   "outputs": [],
   "source": [
    "num_features=['Ціна', 'Кімнат', 'Поверх', 'Загальна площа', 'Житлова площа', 'Кухня', 'price_per_m']"
   ]
  },
  {
   "cell_type": "code",
   "execution_count": 628,
   "metadata": {
    "scrolled": false
   },
   "outputs": [
    {
     "data": {
      "image/png": "[encoded data removed]",
      "text/plain": [
       "<Figure size 864x432 with 1 Axes>"
      ]
     },
     "metadata": {},
     "output_type": "display_data"
    },
    {
     "data": {
      "image/png": "[encoded data removed]",
      "text/plain": [
       "<Figure size 864x432 with 1 Axes>"
      ]
     },
     "metadata": {},
     "output_type": "display_data"
    },
    {
     "data": {
      "image/png": "[encoded data removed]",
      "text/plain": [
       "<Figure size 864x432 with 1 Axes>"
      ]
     },
     "metadata": {},
     "output_type": "display_data"
    },
    {
     "data": {
      "image/png": "[encoded data removed]",
      "text/plain": [
       "<Figure size 864x432 with 1 Axes>"
      ]
     },
     "metadata": {},
     "output_type": "display_data"
    },
    {
     "data": {
      "image/png": "[encoded data removed]",
      "text/plain": [
       "<Figure size 864x432 with 1 Axes>"
      ]
     },
     "metadata": {},
     "output_type": "display_data"
    },
    {
     "data": {
      "image/png": "[encoded data removed]",
      "text/plain": [
       "<Figure size 864x432 with 1 Axes>"
      ]
     },
     "metadata": {},
     "output_type": "display_data"
    },
    {
     "data": {
      "image/png": "[encoded data removed]",
      "text/plain": [
       "<Figure size 864x432 with 1 Axes>"
      ]
     },
     "metadata": {},
     "output_type": "display_data"
    }
   ],
   "source": [
    "for i in num_features:\n",
    "    fig, ax = plt.subplots()\n",
    "    fig.set_size_inches(12,6)\n",
    "    #plt.xlim(-10,10)\n",
    "    sns.boxplot(x=i, data=df_real_estate, ax=ax)"
   ]
  },
  {
   "cell_type": "code",
   "execution_count": 629,
   "metadata": {},
   "outputs": [],
   "source": [
    "class RemoveOutliers(BaseEstimator,TransformerMixin):\n",
    "    \"\"\"This class removes outliers from data.\n",
    "    Note: Outlier values are hard coded\n",
    "    \"\"\"\n",
    "    def fit (self,X,y=None):\n",
    "        return self\n",
    "\n",
    "    def transform(self,X,y=None):\n",
    "        X=X[(X['Кімнат']<=6)].reset_index(drop=True)\n",
    "        X=X[(X['Загальна площа']<=300)].reset_index(drop=True)\n",
    "        X=X[(X['Житлова площа']<=150)].reset_index(drop=True)\n",
    "        X=X[(X['Кухня']<=60)].reset_index(drop=True)\n",
    "        X=X[X['price_per_m']<150000].reset_index(drop=True)\n",
    "        return X"
   ]
  },
  {
   "cell_type": "code",
   "execution_count": 630,
   "metadata": {},
   "outputs": [],
   "source": [
    "df_real_estate = RemoveOutliers().fit_transform(df_real_estate)\n",
    "df_real_estate.drop(['Ціна'], axis=1, inplace=True)\n",
    "df_labels = df_real_estate['price_per_m']\n",
    "df = df_real_estate.drop(['price_per_m'], axis=1)"
   ]
  },
  {
   "cell_type": "code",
   "execution_count": 631,
   "metadata": {},
   "outputs": [
    {
     "data": {
      "text/html": [
       "<div>\n",
       "<style scoped>\n",
       "    .dataframe tbody tr th:only-of-type {\n",
       "        vertical-align: middle;\n",
       "    }\n",
       "\n",
       "    .dataframe tbody tr th {\n",
       "        vertical-align: top;\n",
       "    }\n",
       "\n",
       "    .dataframe thead th {\n",
       "        text-align: right;\n",
       "    }\n",
       "</style>\n",
       "<table border=\"1\" class=\"dataframe\">\n",
       "  <thead>\n",
       "    <tr style=\"text-align: right;\">\n",
       "      <th></th>\n",
       "      <th>Район</th>\n",
       "      <th>Дата</th>\n",
       "      <th>Кімнат</th>\n",
       "      <th>Поверх</th>\n",
       "      <th>Загальна площа</th>\n",
       "      <th>Житлова площа</th>\n",
       "      <th>Кухня</th>\n",
       "      <th>Стіни</th>\n",
       "      <th>price_per_m</th>\n",
       "    </tr>\n",
       "  </thead>\n",
       "  <tbody>\n",
       "    <tr>\n",
       "      <th>0</th>\n",
       "      <td>Галицький</td>\n",
       "      <td>2018-10-12 14:40:23</td>\n",
       "      <td>2</td>\n",
       "      <td>5</td>\n",
       "      <td>51.10</td>\n",
       "      <td>15.50</td>\n",
       "      <td>16.50</td>\n",
       "      <td>цегла</td>\n",
       "      <td>20940.9</td>\n",
       "    </tr>\n",
       "    <tr>\n",
       "      <th>1</th>\n",
       "      <td>Личаківський</td>\n",
       "      <td>2018-09-10 09:59:47</td>\n",
       "      <td>2</td>\n",
       "      <td>9</td>\n",
       "      <td>65.14</td>\n",
       "      <td>28.69</td>\n",
       "      <td>9.90</td>\n",
       "      <td>монолітно-цегляний</td>\n",
       "      <td>15100.0</td>\n",
       "    </tr>\n",
       "    <tr>\n",
       "      <th>2</th>\n",
       "      <td>Личаківський</td>\n",
       "      <td>2018-09-10 10:00:56</td>\n",
       "      <td>1</td>\n",
       "      <td>15</td>\n",
       "      <td>37.66</td>\n",
       "      <td>16.29</td>\n",
       "      <td>9.68</td>\n",
       "      <td>монолітно-цегляний</td>\n",
       "      <td>15500.0</td>\n",
       "    </tr>\n",
       "    <tr>\n",
       "      <th>3</th>\n",
       "      <td>Личаківський</td>\n",
       "      <td>2018-09-10 10:00:29</td>\n",
       "      <td>1</td>\n",
       "      <td>12</td>\n",
       "      <td>40.61</td>\n",
       "      <td>19.04</td>\n",
       "      <td>9.56</td>\n",
       "      <td>монолітно-цегляний</td>\n",
       "      <td>15100.0</td>\n",
       "    </tr>\n",
       "    <tr>\n",
       "      <th>4</th>\n",
       "      <td>Личаківський</td>\n",
       "      <td>2018-09-05 15:40:30</td>\n",
       "      <td>1</td>\n",
       "      <td>6</td>\n",
       "      <td>41.60</td>\n",
       "      <td>16.90</td>\n",
       "      <td>10.50</td>\n",
       "      <td>цегла</td>\n",
       "      <td>15100.0</td>\n",
       "    </tr>\n",
       "  </tbody>\n",
       "</table>\n",
       "</div>"
      ],
      "text/plain": [
       "          Район                 Дата  Кімнат  Поверх  Загальна площа  \\\n",
       "0     Галицький  2018-10-12 14:40:23       2       5           51.10   \n",
       "1  Личаківський  2018-09-10 09:59:47       2       9           65.14   \n",
       "2  Личаківський  2018-09-10 10:00:56       1      15           37.66   \n",
       "3  Личаківський  2018-09-10 10:00:29       1      12           40.61   \n",
       "4  Личаківський  2018-09-05 15:40:30       1       6           41.60   \n",
       "\n",
       "   Житлова площа  Кухня               Стіни  price_per_m  \n",
       "0          15.50  16.50               цегла      20940.9  \n",
       "1          28.69   9.90  монолітно-цегляний      15100.0  \n",
       "2          16.29   9.68  монолітно-цегляний      15500.0  \n",
       "3          19.04   9.56  монолітно-цегляний      15100.0  \n",
       "4          16.90  10.50               цегла      15100.0  "
      ]
     },
     "execution_count": 631,
     "metadata": {},
     "output_type": "execute_result"
    }
   ],
   "source": [
    "df_real_estate.head()"
   ]
  },
  {
   "cell_type": "markdown",
   "metadata": {},
   "source": [
    "### Transforming skewed features"
   ]
  },
  {
   "cell_type": "code",
   "execution_count": 632,
   "metadata": {},
   "outputs": [
    {
     "data": {
      "text/plain": [
       "array([[<matplotlib.axes._subplots.AxesSubplot object at 0x7fa68092b4d0>,\n",
       "        <matplotlib.axes._subplots.AxesSubplot object at 0x7fa6805d5810>],\n",
       "       [<matplotlib.axes._subplots.AxesSubplot object at 0x7fa680372e50>,\n",
       "        <matplotlib.axes._subplots.AxesSubplot object at 0x7fa6802349d0>],\n",
       "       [<matplotlib.axes._subplots.AxesSubplot object at 0x7fa6801f6110>,\n",
       "        <matplotlib.axes._subplots.AxesSubplot object at 0x7fa68034c610>]],\n",
       "      dtype=object)"
      ]
     },
     "execution_count": 632,
     "metadata": {},
     "output_type": "execute_result"
    },
    {
     "data": {
      "image/png": "[encoded data removed]",
      "text/plain": [
       "<Figure size 1152x864 with 6 Axes>"
      ]
     },
     "metadata": {},
     "output_type": "display_data"
    }
   ],
   "source": [
    "df.hist(bins=50,figsize=(16,12))"
   ]
  },
  {
   "cell_type": "code",
   "execution_count": 633,
   "metadata": {},
   "outputs": [],
   "source": [
    "skew_features = ['Кухня', 'Загальна площа', 'Житлова площа']"
   ]
  },
  {
   "cell_type": "markdown",
   "metadata": {},
   "source": [
    "Get skewness of features"
   ]
  },
  {
   "cell_type": "code",
   "execution_count": 634,
   "metadata": {},
   "outputs": [
    {
     "data": {
      "text/html": [
       "<div>\n",
       "<style scoped>\n",
       "    .dataframe tbody tr th:only-of-type {\n",
       "        vertical-align: middle;\n",
       "    }\n",
       "\n",
       "    .dataframe tbody tr th {\n",
       "        vertical-align: top;\n",
       "    }\n",
       "\n",
       "    .dataframe thead th {\n",
       "        text-align: right;\n",
       "    }\n",
       "</style>\n",
       "<table border=\"1\" class=\"dataframe\">\n",
       "  <thead>\n",
       "    <tr style=\"text-align: right;\">\n",
       "      <th></th>\n",
       "      <th>skewness</th>\n",
       "    </tr>\n",
       "  </thead>\n",
       "  <tbody>\n",
       "    <tr>\n",
       "      <th>Кухня</th>\n",
       "      <td>2.074858</td>\n",
       "    </tr>\n",
       "    <tr>\n",
       "      <th>Загальна площа</th>\n",
       "      <td>1.914157</td>\n",
       "    </tr>\n",
       "    <tr>\n",
       "      <th>Житлова площа</th>\n",
       "      <td>1.680670</td>\n",
       "    </tr>\n",
       "  </tbody>\n",
       "</table>\n",
       "</div>"
      ],
      "text/plain": [
       "                skewness\n",
       "Кухня           2.074858\n",
       "Загальна площа  1.914157\n",
       "Житлова площа   1.680670"
      ]
     },
     "execution_count": 634,
     "metadata": {},
     "output_type": "execute_result"
    }
   ],
   "source": [
    "skewness= []\n",
    "for i in skew_features:\n",
    "    skewness.append(df[i].skew())\n",
    "pd.DataFrame(data=skewness, index=skew_features, columns=['skewness']).sort_values(by='skewness',ascending=False)"
   ]
  },
  {
   "cell_type": "code",
   "execution_count": 635,
   "metadata": {},
   "outputs": [],
   "source": [
    "class FeaturesTransformer(BaseEstimator,TransformerMixin):\n",
    "    \"\"\"This class trnsforms numberical featuress in the dataset.\n",
    "    Note: Transformations are hard coded.\n",
    "    \"\"\"\n",
    "    def fit(self,X,y=None):\n",
    "        return self\n",
    "    \n",
    "    def transform(self,X,y=None):\n",
    "        import numpy as np\n",
    "        from scipy.special import boxcox1p        \n",
    "        X['Кухня']=X['Кухня'].apply(lambda x: np.log1p(x)**0.5)\n",
    "        X['Загальна площа']=X['Загальна площа'].apply(lambda x: np.log1p(x)**0.5)\n",
    "        X['Житлова площа']=X['Житлова площа'].apply(lambda x: np.log1p(x)**0.3)\n",
    "        return X"
   ]
  },
  {
   "cell_type": "code",
   "execution_count": 636,
   "metadata": {},
   "outputs": [],
   "source": [
    "df = FeaturesTransformer().fit_transform(df)"
   ]
  },
  {
   "cell_type": "markdown",
   "metadata": {},
   "source": [
    "#### Transformed features"
   ]
  },
  {
   "cell_type": "code",
   "execution_count": 637,
   "metadata": {},
   "outputs": [
    {
     "data": {
      "text/plain": [
       "array([[<matplotlib.axes._subplots.AxesSubplot object at 0x7fa67f5763d0>,\n",
       "        <matplotlib.axes._subplots.AxesSubplot object at 0x7fa69f22fa50>],\n",
       "       [<matplotlib.axes._subplots.AxesSubplot object at 0x7fa694af4d50>,\n",
       "        <matplotlib.axes._subplots.AxesSubplot object at 0x7fa694c1e1d0>],\n",
       "       [<matplotlib.axes._subplots.AxesSubplot object at 0x7fa6a56bba10>,\n",
       "        <matplotlib.axes._subplots.AxesSubplot object at 0x7fa69f222710>]],\n",
       "      dtype=object)"
      ]
     },
     "execution_count": 637,
     "metadata": {},
     "output_type": "execute_result"
    },
    {
     "data": {
      "image/png": "[encoded data removed]",
      "text/plain": [
       "<Figure size 1080x864 with 6 Axes>"
      ]
     },
     "metadata": {},
     "output_type": "display_data"
    }
   ],
   "source": [
    "df.hist(bins=50,figsize=(15,12))"
   ]
  },
  {
   "cell_type": "markdown",
   "metadata": {},
   "source": [
    "## Group string variables"
   ]
  },
  {
   "cell_type": "markdown",
   "metadata": {},
   "source": [
    "##### Deal with walls\n",
    "\n",
    "We have to divide the walls into different categories to know their impact on the outcome."
   ]
  },
  {
   "cell_type": "code",
   "execution_count": 638,
   "metadata": {},
   "outputs": [],
   "source": [
    "d_walls = {}\n",
    "for i, wall in enumerate(set(df_real_estate['Стіни'])):\n",
    "    if wall is not np.nan:\n",
    "        wall = wall.strip()\n",
    "        if wall in ['армированный железобетон', 'газобетон', 'газоблок', 'монолітно-блоковий', 'піноблок',\\\n",
    "                    'залізобетон', 'керамзитобетон', 'сборный железобетон', 'керамический блок', 'панель',\\\n",
    "                    'сборный железобетон']:\n",
    "            d_walls[wall] = 'Блоки'\n",
    "        elif wall in ['монолитно-каркасный', 'монолитный железобетон', 'моноліт']:\n",
    "            d_walls[wall] = 'Моноліт'\n",
    "        elif wall in ['керамический кирпич', 'монолітно-цегляний', 'силікатна цегла', 'цегла']:\n",
    "            d_walls[wall] = 'Цегла'\n",
    "df_real_estate['Стіни'] = df_real_estate['Стіни'].map(lambda wall: d_walls[wall.strip()])"
   ]
  },
  {
   "cell_type": "code",
   "execution_count": 639,
   "metadata": {},
   "outputs": [
    {
     "data": {
      "image/png": "[encoded data removed]",
      "text/plain": [
       "<Figure size 1440x288 with 2 Axes>"
      ]
     },
     "metadata": {},
     "output_type": "display_data"
    }
   ],
   "source": [
    "f, axes = plt.subplots(1,2,figsize=(20,4))\n",
    "\n",
    "sns.countplot(df_real_estate['Стіни'], ax = axes[0], palette=\"Set1\")\n",
    "axes[0].set_xlabel('Стіни', fontsize=14)\n",
    "axes[0].set_ylabel('Кількість', fontsize=14)\n",
    "axes[0].yaxis.tick_left()\n",
    "\n",
    "sns.boxplot(x=df_real_estate['Стіни'], y=df_real_estate['price_per_m'], data=df_real_estate, ax=axes[1])\n",
    "axes[1].set_xlabel('Стіни', fontsize=14)\n",
    "axes[1].set_ylabel('price_per_m', fontsize=14)\n",
    "axes[1].yaxis.tick_right()\n",
    "\n",
    "plt.show()"
   ]
  },
  {
   "cell_type": "markdown",
   "metadata": {},
   "source": [
    "Usually there are used `цегла`, we would better drop this column."
   ]
  },
  {
   "cell_type": "code",
   "execution_count": 640,
   "metadata": {},
   "outputs": [],
   "source": [
    "df.drop(['Стіни'], axis=1, inplace=True)\n",
    "df_real_estate.drop(['Стіни'], axis=1, inplace=True)"
   ]
  },
  {
   "cell_type": "code",
   "execution_count": 641,
   "metadata": {},
   "outputs": [
    {
     "data": {
      "text/html": [
       "<div>\n",
       "<style scoped>\n",
       "    .dataframe tbody tr th:only-of-type {\n",
       "        vertical-align: middle;\n",
       "    }\n",
       "\n",
       "    .dataframe tbody tr th {\n",
       "        vertical-align: top;\n",
       "    }\n",
       "\n",
       "    .dataframe thead th {\n",
       "        text-align: right;\n",
       "    }\n",
       "</style>\n",
       "<table border=\"1\" class=\"dataframe\">\n",
       "  <thead>\n",
       "    <tr style=\"text-align: right;\">\n",
       "      <th></th>\n",
       "      <th>Район</th>\n",
       "      <th>Дата</th>\n",
       "      <th>Кімнат</th>\n",
       "      <th>Поверх</th>\n",
       "      <th>Загальна площа</th>\n",
       "      <th>Житлова площа</th>\n",
       "      <th>Кухня</th>\n",
       "    </tr>\n",
       "  </thead>\n",
       "  <tbody>\n",
       "    <tr>\n",
       "      <th>0</th>\n",
       "      <td>Галицький</td>\n",
       "      <td>2018-10-12 14:40:23</td>\n",
       "      <td>2</td>\n",
       "      <td>5</td>\n",
       "      <td>1.988257</td>\n",
       "      <td>1.362397</td>\n",
       "      <td>1.691804</td>\n",
       "    </tr>\n",
       "    <tr>\n",
       "      <th>1</th>\n",
       "      <td>Личаківський</td>\n",
       "      <td>2018-09-10 09:59:47</td>\n",
       "      <td>2</td>\n",
       "      <td>9</td>\n",
       "      <td>2.047382</td>\n",
       "      <td>1.442418</td>\n",
       "      <td>1.545562</td>\n",
       "    </tr>\n",
       "    <tr>\n",
       "      <th>2</th>\n",
       "      <td>Личаківський</td>\n",
       "      <td>2018-09-10 10:00:56</td>\n",
       "      <td>1</td>\n",
       "      <td>15</td>\n",
       "      <td>1.911755</td>\n",
       "      <td>1.369176</td>\n",
       "      <td>1.538952</td>\n",
       "    </tr>\n",
       "    <tr>\n",
       "      <th>3</th>\n",
       "      <td>Личаківський</td>\n",
       "      <td>2018-09-10 10:00:29</td>\n",
       "      <td>1</td>\n",
       "      <td>12</td>\n",
       "      <td>1.930891</td>\n",
       "      <td>1.390074</td>\n",
       "      <td>1.535276</td>\n",
       "    </tr>\n",
       "    <tr>\n",
       "      <th>4</th>\n",
       "      <td>Личаківський</td>\n",
       "      <td>2018-09-05 15:40:30</td>\n",
       "      <td>1</td>\n",
       "      <td>6</td>\n",
       "      <td>1.936970</td>\n",
       "      <td>1.374152</td>\n",
       "      <td>1.562801</td>\n",
       "    </tr>\n",
       "  </tbody>\n",
       "</table>\n",
       "</div>"
      ],
      "text/plain": [
       "          Район                 Дата  Кімнат  Поверх  Загальна площа  \\\n",
       "0     Галицький  2018-10-12 14:40:23       2       5        1.988257   \n",
       "1  Личаківський  2018-09-10 09:59:47       2       9        2.047382   \n",
       "2  Личаківський  2018-09-10 10:00:56       1      15        1.911755   \n",
       "3  Личаківський  2018-09-10 10:00:29       1      12        1.930891   \n",
       "4  Личаківський  2018-09-05 15:40:30       1       6        1.936970   \n",
       "\n",
       "   Житлова площа     Кухня  \n",
       "0       1.362397  1.691804  \n",
       "1       1.442418  1.545562  \n",
       "2       1.369176  1.538952  \n",
       "3       1.390074  1.535276  \n",
       "4       1.374152  1.562801  "
      ]
     },
     "execution_count": 641,
     "metadata": {},
     "output_type": "execute_result"
    }
   ],
   "source": [
    "df.head()"
   ]
  },
  {
   "cell_type": "markdown",
   "metadata": {},
   "source": [
    "##### Deal with districts\n",
    "\n",
    "We have too many districts in the dataset, so we'll mannualy divide them into 7 cathegories."
   ]
  },
  {
   "cell_type": "code",
   "execution_count": 642,
   "metadata": {},
   "outputs": [],
   "source": [
    "d_area = {}\n",
    "for i, area in enumerate(set(df_real_estate['Район'])):\n",
    "    if area is not np.nan:\n",
    "        if area in ['Новий Львів', 'Санта Барбара', 'Сихівський', 'Сыховский', 'Боднаровка', 'Бондарівка']:\n",
    "            d_area[area] = 'Сихів'\n",
    "        elif area in ['Галицький', 'Площа Ринок']:\n",
    "            d_area[area] = 'Галицький'\n",
    "        elif area in ['Замарстинів', 'Шевченківський', 'Голоско']:\n",
    "            d_area[area] = 'Шевченківський'\n",
    "        elif area in ['Залізничний', 'Левандівка']:\n",
    "            d_area[area] = 'Залізничний'\n",
    "        elif area in ['Личаків', 'Личаківський', 'Погулянка', 'Майорівка']:\n",
    "            d_area[area] = 'Личаків'\n",
    "        elif area in ['Наукова', 'Франковск��й', 'Франківський']:\n",
    "            d_area[area] = 'Франківський'\n",
    "        elif area in ['Рудне', 'Брюховичі', 'Зимна Вода', 'Рясне', 'Скнилів', 'Сокільники', 'Винники']:\n",
    "            d_area[area] = 'Села'\n",
    "    else:\n",
    "        d_area[area] = (df_real_estate['Район']).value_counts().idxmax()\n",
    "\n",
    "df_real_estate['Район'] = df_real_estate['Район'].map(lambda area: d_area[area])"
   ]
  },
  {
   "cell_type": "code",
   "execution_count": 643,
   "metadata": {},
   "outputs": [
    {
     "data": {
      "image/png": "[encoded data removed]",
      "text/plain": [
       "<Figure size 1440x288 with 2 Axes>"
      ]
     },
     "metadata": {},
     "output_type": "display_data"
    }
   ],
   "source": [
    "f, axes = plt.subplots(1,2,figsize=(20,4))\n",
    "\n",
    "sns.countplot(df_real_estate['Район'], ax = axes[0], palette=\"Set1\")\n",
    "axes[0].set_xlabel('Район', fontsize=14)\n",
    "axes[0].set_ylabel('Кількість', fontsize=14)\n",
    "axes[0].yaxis.tick_left()\n",
    "\n",
    "sns.boxplot(x=df_real_estate['Район'], y=df_real_estate['price_per_m'], data=df_real_estate, ax=axes[1])\n",
    "axes[1].set_xlabel('Район', fontsize=14)\n",
    "axes[1].set_ylabel('price_per_m', fontsize=14)\n",
    "axes[1].yaxis.tick_right()\n",
    "\n",
    "plt.show()"
   ]
  },
  {
   "cell_type": "code",
   "execution_count": 644,
   "metadata": {},
   "outputs": [
    {
     "name": "stderr",
     "output_type": "stream",
     "text": [
      "/Users/sofiapetryshyn/opt/anaconda3/lib/python3.7/site-packages/ipykernel_launcher.py:2: SettingWithCopyWarning: \n",
      "A value is trying to be set on a copy of a slice from a DataFrame\n",
      "\n",
      "See the caveats in the documentation: https://pandas.pydata.org/pandas-docs/stable/user_guide/indexing.html#returning-a-view-versus-a-copy\n",
      "  \n"
     ]
    }
   ],
   "source": [
    "df['Район'] = df_real_estate['Район']\n",
    "df_labels['Район'] = df_real_estate['Район'].copy()"
   ]
  },
  {
   "cell_type": "markdown",
   "metadata": {},
   "source": [
    "### The correlation of the data"
   ]
  },
  {
   "cell_type": "code",
   "execution_count": 645,
   "metadata": {},
   "outputs": [
    {
     "data": {
      "image/png": "[encoded data removed]",
      "text/plain": [
       "<Figure size 720x576 with 2 Axes>"
      ]
     },
     "metadata": {},
     "output_type": "display_data"
    }
   ],
   "source": [
    "corr = df.corr()\n",
    "#Plot figsize\n",
    "fig, ax = plt.subplots(figsize=(10, 8))\n",
    "#Generate Heat Map, allow annotations and place floats in map\n",
    "sns.heatmap(corr, cmap='coolwarm', annot=True, fmt=\".2f\")\n",
    "#Apply xticks\n",
    "plt.xticks(range(len(corr.columns)), corr.columns)\n",
    "#Apply yticks\n",
    "plt.yticks(range(len(corr.columns)), corr.columns)\n",
    "#show plot\n",
    "plt.show()"
   ]
  },
  {
   "cell_type": "code",
   "execution_count": 646,
   "metadata": {},
   "outputs": [],
   "source": [
    "df.drop(['Кухня', 'Дата'], axis=1, inplace=True)"
   ]
  },
  {
   "cell_type": "code",
   "execution_count": 647,
   "metadata": {},
   "outputs": [
    {
     "data": {
      "text/plain": [
       "Район             1541\n",
       "Кімнат            1541\n",
       "Поверх            1541\n",
       "Загальна площа    1541\n",
       "Житлова площа     1541\n",
       "dtype: int64"
      ]
     },
     "execution_count": 647,
     "metadata": {},
     "output_type": "execute_result"
    }
   ],
   "source": [
    "df.count()"
   ]
  },
  {
   "cell_type": "code",
   "execution_count": 648,
   "metadata": {},
   "outputs": [
    {
     "data": {
      "text/html": [
       "<div>\n",
       "<style scoped>\n",
       "    .dataframe tbody tr th:only-of-type {\n",
       "        vertical-align: middle;\n",
       "    }\n",
       "\n",
       "    .dataframe tbody tr th {\n",
       "        vertical-align: top;\n",
       "    }\n",
       "\n",
       "    .dataframe thead th {\n",
       "        text-align: right;\n",
       "    }\n",
       "</style>\n",
       "<table border=\"1\" class=\"dataframe\">\n",
       "  <thead>\n",
       "    <tr style=\"text-align: right;\">\n",
       "      <th></th>\n",
       "      <th>Кімнат</th>\n",
       "      <th>Поверх</th>\n",
       "      <th>Загальна площа</th>\n",
       "      <th>Житлова площа</th>\n",
       "    </tr>\n",
       "  </thead>\n",
       "  <tbody>\n",
       "    <tr>\n",
       "      <th>count</th>\n",
       "      <td>1541.000000</td>\n",
       "      <td>1541.000000</td>\n",
       "      <td>1541.000000</td>\n",
       "      <td>1541.000000</td>\n",
       "    </tr>\n",
       "    <tr>\n",
       "      <th>mean</th>\n",
       "      <td>2.142764</td>\n",
       "      <td>4.787800</td>\n",
       "      <td>2.035521</td>\n",
       "      <td>1.459263</td>\n",
       "    </tr>\n",
       "    <tr>\n",
       "      <th>std</th>\n",
       "      <td>1.025833</td>\n",
       "      <td>3.208108</td>\n",
       "      <td>0.101652</td>\n",
       "      <td>0.055687</td>\n",
       "    </tr>\n",
       "    <tr>\n",
       "      <th>min</th>\n",
       "      <td>1.000000</td>\n",
       "      <td>0.000000</td>\n",
       "      <td>1.665109</td>\n",
       "      <td>1.284295</td>\n",
       "    </tr>\n",
       "    <tr>\n",
       "      <th>25%</th>\n",
       "      <td>1.000000</td>\n",
       "      <td>2.000000</td>\n",
       "      <td>1.956691</td>\n",
       "      <td>1.425244</td>\n",
       "    </tr>\n",
       "    <tr>\n",
       "      <th>50%</th>\n",
       "      <td>2.000000</td>\n",
       "      <td>4.000000</td>\n",
       "      <td>2.035469</td>\n",
       "      <td>1.464817</td>\n",
       "    </tr>\n",
       "    <tr>\n",
       "      <th>75%</th>\n",
       "      <td>3.000000</td>\n",
       "      <td>7.000000</td>\n",
       "      <td>2.099219</td>\n",
       "      <td>1.490706</td>\n",
       "    </tr>\n",
       "    <tr>\n",
       "      <th>max</th>\n",
       "      <td>6.000000</td>\n",
       "      <td>18.000000</td>\n",
       "      <td>2.369973</td>\n",
       "      <td>1.612111</td>\n",
       "    </tr>\n",
       "  </tbody>\n",
       "</table>\n",
       "</div>"
      ],
      "text/plain": [
       "            Кімнат       Поверх  Загальна площа  Житлова площа\n",
       "count  1541.000000  1541.000000     1541.000000    1541.000000\n",
       "mean      2.142764     4.787800        2.035521       1.459263\n",
       "std       1.025833     3.208108        0.101652       0.055687\n",
       "min       1.000000     0.000000        1.665109       1.284295\n",
       "25%       1.000000     2.000000        1.956691       1.425244\n",
       "50%       2.000000     4.000000        2.035469       1.464817\n",
       "75%       3.000000     7.000000        2.099219       1.490706\n",
       "max       6.000000    18.000000        2.369973       1.612111"
      ]
     },
     "execution_count": 648,
     "metadata": {},
     "output_type": "execute_result"
    }
   ],
   "source": [
    "df.describe()"
   ]
  },
  {
   "cell_type": "code",
   "execution_count": 649,
   "metadata": {},
   "outputs": [
    {
     "data": {
      "text/plain": [
       "Район             0\n",
       "Кімнат            0\n",
       "Поверх            0\n",
       "Загальна площа    0\n",
       "Житлова площа     0\n",
       "dtype: int64"
      ]
     },
     "execution_count": 649,
     "metadata": {},
     "output_type": "execute_result"
    }
   ],
   "source": [
    "df.isnull().sum()"
   ]
  },
  {
   "cell_type": "markdown",
   "metadata": {},
   "source": [
    "### Get dummies and Scale the labels"
   ]
  },
  {
   "cell_type": "code",
   "execution_count": 650,
   "metadata": {},
   "outputs": [],
   "source": [
    "df = pd.get_dummies(df)"
   ]
  },
  {
   "cell_type": "code",
   "execution_count": 651,
   "metadata": {},
   "outputs": [
    {
     "data": {
      "text/html": [
       "<div>\n",
       "<style scoped>\n",
       "    .dataframe tbody tr th:only-of-type {\n",
       "        vertical-align: middle;\n",
       "    }\n",
       "\n",
       "    .dataframe tbody tr th {\n",
       "        vertical-align: top;\n",
       "    }\n",
       "\n",
       "    .dataframe thead th {\n",
       "        text-align: right;\n",
       "    }\n",
       "</style>\n",
       "<table border=\"1\" class=\"dataframe\">\n",
       "  <thead>\n",
       "    <tr style=\"text-align: right;\">\n",
       "      <th></th>\n",
       "      <th>Кімнат</th>\n",
       "      <th>Поверх</th>\n",
       "      <th>Загальна площа</th>\n",
       "      <th>Житлова площа</th>\n",
       "      <th>Район_Галицький</th>\n",
       "      <th>Район_Залізничний</th>\n",
       "      <th>Район_Личаків</th>\n",
       "      <th>Район_Села</th>\n",
       "      <th>Район_Сихів</th>\n",
       "      <th>Район_Франківський</th>\n",
       "      <th>Район_Шевченківський</th>\n",
       "    </tr>\n",
       "  </thead>\n",
       "  <tbody>\n",
       "    <tr>\n",
       "      <th>0</th>\n",
       "      <td>2</td>\n",
       "      <td>5</td>\n",
       "      <td>1.988257</td>\n",
       "      <td>1.362397</td>\n",
       "      <td>1</td>\n",
       "      <td>0</td>\n",
       "      <td>0</td>\n",
       "      <td>0</td>\n",
       "      <td>0</td>\n",
       "      <td>0</td>\n",
       "      <td>0</td>\n",
       "    </tr>\n",
       "    <tr>\n",
       "      <th>1</th>\n",
       "      <td>2</td>\n",
       "      <td>9</td>\n",
       "      <td>2.047382</td>\n",
       "      <td>1.442418</td>\n",
       "      <td>0</td>\n",
       "      <td>0</td>\n",
       "      <td>1</td>\n",
       "      <td>0</td>\n",
       "      <td>0</td>\n",
       "      <td>0</td>\n",
       "      <td>0</td>\n",
       "    </tr>\n",
       "    <tr>\n",
       "      <th>2</th>\n",
       "      <td>1</td>\n",
       "      <td>15</td>\n",
       "      <td>1.911755</td>\n",
       "      <td>1.369176</td>\n",
       "      <td>0</td>\n",
       "      <td>0</td>\n",
       "      <td>1</td>\n",
       "      <td>0</td>\n",
       "      <td>0</td>\n",
       "      <td>0</td>\n",
       "      <td>0</td>\n",
       "    </tr>\n",
       "    <tr>\n",
       "      <th>3</th>\n",
       "      <td>1</td>\n",
       "      <td>12</td>\n",
       "      <td>1.930891</td>\n",
       "      <td>1.390074</td>\n",
       "      <td>0</td>\n",
       "      <td>0</td>\n",
       "      <td>1</td>\n",
       "      <td>0</td>\n",
       "      <td>0</td>\n",
       "      <td>0</td>\n",
       "      <td>0</td>\n",
       "    </tr>\n",
       "    <tr>\n",
       "      <th>4</th>\n",
       "      <td>1</td>\n",
       "      <td>6</td>\n",
       "      <td>1.936970</td>\n",
       "      <td>1.374152</td>\n",
       "      <td>0</td>\n",
       "      <td>0</td>\n",
       "      <td>1</td>\n",
       "      <td>0</td>\n",
       "      <td>0</td>\n",
       "      <td>0</td>\n",
       "      <td>0</td>\n",
       "    </tr>\n",
       "  </tbody>\n",
       "</table>\n",
       "</div>"
      ],
      "text/plain": [
       "   Кімнат  Поверх  Загальна площа  Житлова площа  Район_Галицький  \\\n",
       "0       2       5        1.988257       1.362397                1   \n",
       "1       2       9        2.047382       1.442418                0   \n",
       "2       1      15        1.911755       1.369176                0   \n",
       "3       1      12        1.930891       1.390074                0   \n",
       "4       1       6        1.936970       1.374152                0   \n",
       "\n",
       "   Район_Залізничний  Район_Личаків  Район_Села  Район_Сихів  \\\n",
       "0                  0              0           0            0   \n",
       "1                  0              1           0            0   \n",
       "2                  0              1           0            0   \n",
       "3                  0              1           0            0   \n",
       "4                  0              1           0            0   \n",
       "\n",
       "   Район_Франківський  Район_Шевченківський  \n",
       "0                   0                     0  \n",
       "1                   0                     0  \n",
       "2                   0                     0  \n",
       "3                   0                     0  \n",
       "4                   0                     0  "
      ]
     },
     "execution_count": 651,
     "metadata": {},
     "output_type": "execute_result"
    }
   ],
   "source": [
    "df.head()"
   ]
  },
  {
   "cell_type": "code",
   "execution_count": 652,
   "metadata": {},
   "outputs": [],
   "source": [
    "label_scaler = StandardScaler()\n",
    "df_labels = label_scaler.fit_transform(df_labels[:-1].values.reshape(-1,1))"
   ]
  },
  {
   "cell_type": "code",
   "execution_count": 653,
   "metadata": {},
   "outputs": [
    {
     "name": "stdout",
     "output_type": "stream",
     "text": [
      "1541 1541\n"
     ]
    }
   ],
   "source": [
    "print(len(df), len(df_labels))"
   ]
  },
  {
   "cell_type": "code",
   "execution_count": null,
   "metadata": {},
   "outputs": [],
   "source": []
  },
  {
   "cell_type": "code",
   "execution_count": null,
   "metadata": {},
   "outputs": [],
   "source": []
  },
  {
   "cell_type": "code",
   "execution_count": null,
   "metadata": {},
   "outputs": [],
   "source": []
  },
  {
   "cell_type": "code",
   "execution_count": null,
   "metadata": {},
   "outputs": [],
   "source": []
  },
  {
   "cell_type": "code",
   "execution_count": null,
   "metadata": {},
   "outputs": [],
   "source": []
  },
  {
   "cell_type": "code",
   "execution_count": 654,
   "metadata": {},
   "outputs": [],
   "source": [
    "X_train, X_test, y_train, y_test = train_test_split(df, df_labels, shuffle=True, test_size=0.2, random_state=1)\n",
    "\n",
    "X_train, X_val, y_train, y_val = train_test_split(X_train, y_train, shuffle=True, test_size=0.25, random_state=1)"
   ]
  },
  {
   "cell_type": "code",
   "execution_count": 655,
   "metadata": {},
   "outputs": [
    {
     "name": "stdout",
     "output_type": "stream",
     "text": [
      "Shape of X_train:  (924, 11)\n",
      "Shape of X_test:  (309, 11)\n",
      "Shape of X_val:  (308, 11)\n",
      "Shape of y_train:  (924, 1)\n",
      "Shape of y_test (309, 1)\n",
      "Shape of y_val (308, 1)\n"
     ]
    }
   ],
   "source": [
    "print(\"Shape of X_train: \",X_train.shape)\n",
    "print(\"Shape of X_test: \", X_test.shape)\n",
    "print(\"Shape of X_val: \",X_val.shape)\n",
    "print(\"Shape of y_train: \",y_train.shape)\n",
    "print(\"Shape of y_test\",y_test.shape)\n",
    "print(\"Shape of y_val\",y_val.shape)"
   ]
  },
  {
   "cell_type": "markdown",
   "metadata": {},
   "source": [
    "### Regression Model\n",
    "#### Linear Regression"
   ]
  },
  {
   "cell_type": "code",
   "execution_count": 656,
   "metadata": {},
   "outputs": [],
   "source": [
    "lm = LinearRegression()\n",
    "model = lm.fit(X_train, y_train)\n",
    "predictions = lm.predict(X_test)"
   ]
  },
  {
   "cell_type": "code",
   "execution_count": 657,
   "metadata": {},
   "outputs": [
    {
     "data": {
      "text/plain": [
       "Text(0, 0.5, 'Predictions')"
      ]
     },
     "execution_count": 657,
     "metadata": {},
     "output_type": "execute_result"
    },
    {
     "data": {
      "image/png": "[encoded data removed]",
      "text/plain": [
       "<Figure size 432x288 with 1 Axes>"
      ]
     },
     "metadata": {},
     "output_type": "display_data"
    }
   ],
   "source": [
    "## The line / model\n",
    "plt.scatter(y_test, predictions)\n",
    "plt.xlabel('True Values')\n",
    "plt.ylabel('Predictions')"
   ]
  },
  {
   "cell_type": "code",
   "execution_count": 658,
   "metadata": {},
   "outputs": [
    {
     "name": "stdout",
     "output_type": "stream",
     "text": [
      "Score: 0.3259831324825525\n"
     ]
    }
   ],
   "source": [
    "print('Score:', model.score(X_test, y_test))"
   ]
  },
  {
   "cell_type": "code",
   "execution_count": 659,
   "metadata": {},
   "outputs": [
    {
     "name": "stdout",
     "output_type": "stream",
     "text": [
      "CV:  0.6704046006651809\n",
      "R2_score (train):  0.2769412021053542\n",
      "R2_score (test):  0.3259831324825525\n",
      "RMSE:  0.8219833759948861\n"
     ]
    }
   ],
   "source": [
    "# Predicting Cross Validation Score the Test set results\n",
    "cv_linear = cross_val_score(estimator=lm, X=X, y=y, cv=8)\n",
    "\n",
    "# Predicting R2 Score the Train set results\n",
    "y_pred_linear_train = lm.predict(X_train)\n",
    "r2_score_linear_train = r2_score(y_train, y_pred_linear_train)\n",
    "\n",
    "# Predicting R2 Score the Test set results\n",
    "y_pred_linear_test = lm.predict(X_test)\n",
    "r2_score_linear_test = r2_score(y_test, y_pred_linear_test)\n",
    "\n",
    "# Predicting RMSE the Test set results\n",
    "# Root Mean Squere Error\n",
    "rmse_linear = (np.sqrt(mean_squared_error(y_test, y_pred_linear_test)))\n",
    "print(\"CV: \", cv_linear.mean())\n",
    "print('R2_score (train): ', r2_score_linear_train)\n",
    "print('R2_score (test): ', r2_score_linear_test)\n",
    "print(\"RMSE: \", rmse_linear)"
   ]
  },
  {
   "cell_type": "markdown",
   "metadata": {},
   "source": [
    "### Ridge Regression"
   ]
  },
  {
   "cell_type": "code",
   "execution_count": 660,
   "metadata": {},
   "outputs": [
    {
     "name": "stderr",
     "output_type": "stream",
     "text": [
      "/Users/sofiapetryshyn/opt/anaconda3/lib/python3.7/site-packages/sklearn/model_selection/_search.py:823: FutureWarning: The parameter 'iid' is deprecated in 0.22 and will be removed in 0.24.\n",
      "  \"removed in 0.24.\", FutureWarning\n"
     ]
    },
    {
     "ename": "ValueError",
     "evalue": "operands could not be broadcast together with shapes (924,11) (12,) (924,11) ",
     "output_type": "error",
     "traceback": [
      "\u001b[0;31m---------------------------------------------------------------------------\u001b[0m",
      "\u001b[0;31mValueError\u001b[0m                                Traceback (most recent call last)",
      "\u001b[0;32m<ipython-input-660-648d90d69b39>\u001b[0m in \u001b[0;36m<module>\u001b[0;34m\u001b[0m\n\u001b[1;32m     22\u001b[0m \u001b[0;34m\u001b[0m\u001b[0m\n\u001b[1;32m     23\u001b[0m \u001b[0;31m# Predicting R2 Score the Test set results\u001b[0m\u001b[0;34m\u001b[0m\u001b[0;34m\u001b[0m\u001b[0;34m\u001b[0m\u001b[0m\n\u001b[0;32m---> 24\u001b[0;31m \u001b[0my_pred_ridge_train\u001b[0m \u001b[0;34m=\u001b[0m \u001b[0mregressor_ridge\u001b[0m\u001b[0;34m.\u001b[0m\u001b[0mpredict\u001b[0m\u001b[0;34m(\u001b[0m\u001b[0mX_train\u001b[0m\u001b[0;34m)\u001b[0m\u001b[0;34m\u001b[0m\u001b[0;34m\u001b[0m\u001b[0m\n\u001b[0m\u001b[1;32m     25\u001b[0m \u001b[0mr2_score_ridge_train\u001b[0m \u001b[0;34m=\u001b[0m \u001b[0mr2_score\u001b[0m\u001b[0;34m(\u001b[0m\u001b[0my_train\u001b[0m\u001b[0;34m,\u001b[0m \u001b[0my_pred_ridge_train\u001b[0m\u001b[0;34m)\u001b[0m\u001b[0;34m\u001b[0m\u001b[0;34m\u001b[0m\u001b[0m\n\u001b[1;32m     26\u001b[0m \u001b[0;34m\u001b[0m\u001b[0m\n",
      "\u001b[0;32m~/opt/anaconda3/lib/python3.7/site-packages/sklearn/utils/metaestimators.py\u001b[0m in \u001b[0;36m<lambda>\u001b[0;34m(*args, **kwargs)\u001b[0m\n\u001b[1;32m    114\u001b[0m \u001b[0;34m\u001b[0m\u001b[0m\n\u001b[1;32m    115\u001b[0m         \u001b[0;31m# lambda, but not partial, allows help() to work with update_wrapper\u001b[0m\u001b[0;34m\u001b[0m\u001b[0;34m\u001b[0m\u001b[0;34m\u001b[0m\u001b[0m\n\u001b[0;32m--> 116\u001b[0;31m         \u001b[0mout\u001b[0m \u001b[0;34m=\u001b[0m \u001b[0;32mlambda\u001b[0m \u001b[0;34m*\u001b[0m\u001b[0margs\u001b[0m\u001b[0;34m,\u001b[0m \u001b[0;34m**\u001b[0m\u001b[0mkwargs\u001b[0m\u001b[0;34m:\u001b[0m \u001b[0mself\u001b[0m\u001b[0;34m.\u001b[0m\u001b[0mfn\u001b[0m\u001b[0;34m(\u001b[0m\u001b[0mobj\u001b[0m\u001b[0;34m,\u001b[0m \u001b[0;34m*\u001b[0m\u001b[0margs\u001b[0m\u001b[0;34m,\u001b[0m \u001b[0;34m**\u001b[0m\u001b[0mkwargs\u001b[0m\u001b[0;34m)\u001b[0m\u001b[0;34m\u001b[0m\u001b[0;34m\u001b[0m\u001b[0m\n\u001b[0m\u001b[1;32m    117\u001b[0m         \u001b[0;31m# update the docstring of the returned function\u001b[0m\u001b[0;34m\u001b[0m\u001b[0;34m\u001b[0m\u001b[0;34m\u001b[0m\u001b[0m\n\u001b[1;32m    118\u001b[0m         \u001b[0mupdate_wrapper\u001b[0m\u001b[0;34m(\u001b[0m\u001b[0mout\u001b[0m\u001b[0;34m,\u001b[0m \u001b[0mself\u001b[0m\u001b[0;34m.\u001b[0m\u001b[0mfn\u001b[0m\u001b[0;34m)\u001b[0m\u001b[0;34m\u001b[0m\u001b[0;34m\u001b[0m\u001b[0m\n",
      "\u001b[0;32m~/opt/anaconda3/lib/python3.7/site-packages/sklearn/model_selection/_search.py\u001b[0m in \u001b[0;36mpredict\u001b[0;34m(self, X)\u001b[0m\n\u001b[1;32m    475\u001b[0m         \"\"\"\n\u001b[1;32m    476\u001b[0m         \u001b[0mself\u001b[0m\u001b[0;34m.\u001b[0m\u001b[0m_check_is_fitted\u001b[0m\u001b[0;34m(\u001b[0m\u001b[0;34m'predict'\u001b[0m\u001b[0;34m)\u001b[0m\u001b[0;34m\u001b[0m\u001b[0;34m\u001b[0m\u001b[0m\n\u001b[0;32m--> 477\u001b[0;31m         \u001b[0;32mreturn\u001b[0m \u001b[0mself\u001b[0m\u001b[0;34m.\u001b[0m\u001b[0mbest_estimator_\u001b[0m\u001b[0;34m.\u001b[0m\u001b[0mpredict\u001b[0m\u001b[0;34m(\u001b[0m\u001b[0mX\u001b[0m\u001b[0;34m)\u001b[0m\u001b[0;34m\u001b[0m\u001b[0;34m\u001b[0m\u001b[0m\n\u001b[0m\u001b[1;32m    478\u001b[0m \u001b[0;34m\u001b[0m\u001b[0m\n\u001b[1;32m    479\u001b[0m     \u001b[0;34m@\u001b[0m\u001b[0mif_delegate_has_method\u001b[0m\u001b[0;34m(\u001b[0m\u001b[0mdelegate\u001b[0m\u001b[0;34m=\u001b[0m\u001b[0;34m(\u001b[0m\u001b[0;34m'best_estimator_'\u001b[0m\u001b[0;34m,\u001b[0m \u001b[0;34m'estimator'\u001b[0m\u001b[0;34m)\u001b[0m\u001b[0;34m)\u001b[0m\u001b[0;34m\u001b[0m\u001b[0;34m\u001b[0m\u001b[0m\n",
      "\u001b[0;32m~/opt/anaconda3/lib/python3.7/site-packages/sklearn/utils/metaestimators.py\u001b[0m in \u001b[0;36m<lambda>\u001b[0;34m(*args, **kwargs)\u001b[0m\n\u001b[1;32m    114\u001b[0m \u001b[0;34m\u001b[0m\u001b[0m\n\u001b[1;32m    115\u001b[0m         \u001b[0;31m# lambda, but not partial, allows help() to work with update_wrapper\u001b[0m\u001b[0;34m\u001b[0m\u001b[0;34m\u001b[0m\u001b[0;34m\u001b[0m\u001b[0m\n\u001b[0;32m--> 116\u001b[0;31m         \u001b[0mout\u001b[0m \u001b[0;34m=\u001b[0m \u001b[0;32mlambda\u001b[0m \u001b[0;34m*\u001b[0m\u001b[0margs\u001b[0m\u001b[0;34m,\u001b[0m \u001b[0;34m**\u001b[0m\u001b[0mkwargs\u001b[0m\u001b[0;34m:\u001b[0m \u001b[0mself\u001b[0m\u001b[0;34m.\u001b[0m\u001b[0mfn\u001b[0m\u001b[0;34m(\u001b[0m\u001b[0mobj\u001b[0m\u001b[0;34m,\u001b[0m \u001b[0;34m*\u001b[0m\u001b[0margs\u001b[0m\u001b[0;34m,\u001b[0m \u001b[0;34m**\u001b[0m\u001b[0mkwargs\u001b[0m\u001b[0;34m)\u001b[0m\u001b[0;34m\u001b[0m\u001b[0;34m\u001b[0m\u001b[0m\n\u001b[0m\u001b[1;32m    117\u001b[0m         \u001b[0;31m# update the docstring of the returned function\u001b[0m\u001b[0;34m\u001b[0m\u001b[0;34m\u001b[0m\u001b[0;34m\u001b[0m\u001b[0m\n\u001b[1;32m    118\u001b[0m         \u001b[0mupdate_wrapper\u001b[0m\u001b[0;34m(\u001b[0m\u001b[0mout\u001b[0m\u001b[0;34m,\u001b[0m \u001b[0mself\u001b[0m\u001b[0;34m.\u001b[0m\u001b[0mfn\u001b[0m\u001b[0;34m)\u001b[0m\u001b[0;34m\u001b[0m\u001b[0;34m\u001b[0m\u001b[0m\n",
      "\u001b[0;32m~/opt/anaconda3/lib/python3.7/site-packages/sklearn/pipeline.py\u001b[0m in \u001b[0;36mpredict\u001b[0;34m(self, X, **predict_params)\u001b[0m\n\u001b[1;32m    417\u001b[0m         \u001b[0mXt\u001b[0m \u001b[0;34m=\u001b[0m \u001b[0mX\u001b[0m\u001b[0;34m\u001b[0m\u001b[0;34m\u001b[0m\u001b[0m\n\u001b[1;32m    418\u001b[0m         \u001b[0;32mfor\u001b[0m \u001b[0m_\u001b[0m\u001b[0;34m,\u001b[0m \u001b[0mname\u001b[0m\u001b[0;34m,\u001b[0m \u001b[0mtransform\u001b[0m \u001b[0;32min\u001b[0m \u001b[0mself\u001b[0m\u001b[0;34m.\u001b[0m\u001b[0m_iter\u001b[0m\u001b[0;34m(\u001b[0m\u001b[0mwith_final\u001b[0m\u001b[0;34m=\u001b[0m\u001b[0;32mFalse\u001b[0m\u001b[0;34m)\u001b[0m\u001b[0;34m:\u001b[0m\u001b[0;34m\u001b[0m\u001b[0;34m\u001b[0m\u001b[0m\n\u001b[0;32m--> 419\u001b[0;31m             \u001b[0mXt\u001b[0m \u001b[0;34m=\u001b[0m \u001b[0mtransform\u001b[0m\u001b[0;34m.\u001b[0m\u001b[0mtransform\u001b[0m\u001b[0;34m(\u001b[0m\u001b[0mXt\u001b[0m\u001b[0;34m)\u001b[0m\u001b[0;34m\u001b[0m\u001b[0;34m\u001b[0m\u001b[0m\n\u001b[0m\u001b[1;32m    420\u001b[0m         \u001b[0;32mreturn\u001b[0m \u001b[0mself\u001b[0m\u001b[0;34m.\u001b[0m\u001b[0msteps\u001b[0m\u001b[0;34m[\u001b[0m\u001b[0;34m-\u001b[0m\u001b[0;36m1\u001b[0m\u001b[0;34m]\u001b[0m\u001b[0;34m[\u001b[0m\u001b[0;34m-\u001b[0m\u001b[0;36m1\u001b[0m\u001b[0;34m]\u001b[0m\u001b[0;34m.\u001b[0m\u001b[0mpredict\u001b[0m\u001b[0;34m(\u001b[0m\u001b[0mXt\u001b[0m\u001b[0;34m,\u001b[0m \u001b[0;34m**\u001b[0m\u001b[0mpredict_params\u001b[0m\u001b[0;34m)\u001b[0m\u001b[0;34m\u001b[0m\u001b[0;34m\u001b[0m\u001b[0m\n\u001b[1;32m    421\u001b[0m \u001b[0;34m\u001b[0m\u001b[0m\n",
      "\u001b[0;32m~/opt/anaconda3/lib/python3.7/site-packages/sklearn/preprocessing/_data.py\u001b[0m in \u001b[0;36mtransform\u001b[0;34m(self, X, copy)\u001b[0m\n\u001b[1;32m    804\u001b[0m         \u001b[0;32melse\u001b[0m\u001b[0;34m:\u001b[0m\u001b[0;34m\u001b[0m\u001b[0;34m\u001b[0m\u001b[0m\n\u001b[1;32m    805\u001b[0m             \u001b[0;32mif\u001b[0m \u001b[0mself\u001b[0m\u001b[0;34m.\u001b[0m\u001b[0mwith_mean\u001b[0m\u001b[0;34m:\u001b[0m\u001b[0;34m\u001b[0m\u001b[0;34m\u001b[0m\u001b[0m\n\u001b[0;32m--> 806\u001b[0;31m                 \u001b[0mX\u001b[0m \u001b[0;34m-=\u001b[0m \u001b[0mself\u001b[0m\u001b[0;34m.\u001b[0m\u001b[0mmean_\u001b[0m\u001b[0;34m\u001b[0m\u001b[0;34m\u001b[0m\u001b[0m\n\u001b[0m\u001b[1;32m    807\u001b[0m             \u001b[0;32mif\u001b[0m \u001b[0mself\u001b[0m\u001b[0;34m.\u001b[0m\u001b[0mwith_std\u001b[0m\u001b[0;34m:\u001b[0m\u001b[0;34m\u001b[0m\u001b[0;34m\u001b[0m\u001b[0m\n\u001b[1;32m    808\u001b[0m                 \u001b[0mX\u001b[0m \u001b[0;34m/=\u001b[0m \u001b[0mself\u001b[0m\u001b[0;34m.\u001b[0m\u001b[0mscale_\u001b[0m\u001b[0;34m\u001b[0m\u001b[0;34m\u001b[0m\u001b[0m\n",
      "\u001b[0;31mValueError\u001b[0m: operands could not be broadcast together with shapes (924,11) (12,) (924,11) "
     ]
    }
   ],
   "source": [
    "# steps = [\n",
    "#     ('scalar', StandardScaler()),\n",
    "#     ('poly', PolynomialFeatures(degree=2)),\n",
    "#     ('model', Lasso())\n",
    "# ]\n",
    "\n",
    "# lasso_pipe = Pipeline(steps)\n",
    "# # Applying Grid Search to find the best model and the best parameters\n",
    "# # step 1: alpha:np.arange(0.01, 1, 0.005) -> 0.9949\n",
    "\n",
    "# parameters =  {'model__alpha' : [43],\n",
    "#                'model__fit_intercept' : [True],\n",
    "#                'model__tol' : [0.0001],\n",
    "#                'model__max_iter' : [5000],\n",
    "#                'model__random_state': [42]\n",
    "# }\n",
    "# regressor_ridge = GridSearchCV(lasso_pipe, parameters, iid=False, cv=10)\n",
    "# regressor_ridge = regressor_ridge.fit(X, y.ravel())\n",
    "\n",
    "# # Predicting Cross Validation Score\n",
    "# cv_ridge = regressor_ridge.best_score_\n",
    "\n",
    "# # Predicting R2 Score the Test set results\n",
    "# y_pred_ridge_train = regressor_ridge.predict(X_train)\n",
    "# r2_score_ridge_train = r2_score(y_train, y_pred_ridge_train)\n",
    "\n",
    "# # Predicting R2 Score the Test set results\n",
    "# y_pred_ridge_test = regressor_ridge.predict(X_test)\n",
    "# r2_score_ridge_test = r2_score(y_test, y_pred_ridge_test)\n",
    "\n",
    "# # Predicting RMSE the Test set results\n",
    "# rmse_ridge = (np.sqrt(mean_squared_error(y_test, y_pred_ridge_test)))\n",
    "# print('CV: ', cv_ridge.mean())\n",
    "# print('R2_score (train): ', r2_score_ridge_train)\n",
    "# print('R2_score (test): ', r2_score_ridge_test)\n",
    "# print(\"RMSE: \", rmse_ridge)"
   ]
  },
  {
   "cell_type": "markdown",
   "metadata": {},
   "source": [
    "### Lasso Regresion"
   ]
  },
  {
   "cell_type": "code",
   "execution_count": null,
   "metadata": {},
   "outputs": [],
   "source": [
    "# steps = [\n",
    "#     ('scalar', StandardScaler()),\n",
    "#     ('poly', PolynomialFeatures(degree=2)),\n",
    "#     ('model', Lasso())\n",
    "# ]\n",
    "\n",
    "# lasso_pipe = Pipeline(steps)\n",
    "# # Applying Grid Search to find the best model and the best parameters\n",
    "# # step 1: alpha:np.arange(0.01, 1, 0.005) -> 0.9949\n",
    "\n",
    "# parameters =  {'model__alpha' : [0.9949],\n",
    "#                'model__fit_intercept' : [True], 'model__tol' : [0.0001],\n",
    "#                'model__max_iter' : [5000], 'model__random_state': [42] \n",
    "# }\n",
    "# regressor_lasso = GridSearchCV(lasso_pipe, parameters, iid=False, cv=10, n_jobs = -1, verbose = 4)\n",
    "# regressor_lasso = regressor_lasso.fit(X, y.ravel())"
   ]
  },
  {
   "cell_type": "code",
   "execution_count": null,
   "metadata": {},
   "outputs": [],
   "source": [
    "# # Predicting Cross Validation Score\n",
    "# cv_lasso = regressor_lasso.best_score_\n",
    "\n",
    "# # Predicting R2 Score the Test set results\n",
    "# y_pred_lasso_train = regressor_lasso.predict(X_train)\n",
    "# r2_score_lasso_train = r2_score(y_train, y_pred_lasso_train)\n",
    "\n",
    "# # Predicting R2 Score the Test set results\n",
    "# y_pred_lasso_test = regressor_lasso.predict(X_test)\n",
    "# r2_score_lasso_test = r2_score(y_test, y_pred_lasso_test)\n",
    "\n",
    "# # Predicting RMSE the Test set results\n",
    "# rmse_lasso = (np.sqrt(mean_squared_error(y_test, y_pred_lasso_test)))\n",
    "# print('CV: ', cv_lasso.mean())\n",
    "# print('R2_score (train): ', r2_score_lasso_train)\n",
    "# print('R2_score (test): ', r2_score_lasso_test)\n",
    "# print(\"RMSE: \", rmse_lasso)"
   ]
  },
  {
   "cell_type": "code",
   "execution_count": null,
   "metadata": {},
   "outputs": [],
   "source": []
  }
 ],
 "metadata": {
  "kernelspec": {
   "display_name": "Python 3",
   "language": "python",
   "name": "python3"
  },
  "language_info": {
   "codemirror_mode": {
    "name": "ipython",
    "version": 3
   },
   "file_extension": ".py",
   "mimetype": "text/x-python",
   "name": "python",
   "nbconvert_exporter": "python",
   "pygments_lexer": "ipython3",
   "version": "3.7.7"
  }
 },
 "nbformat": 4,
 "nbformat_minor": 4
}
