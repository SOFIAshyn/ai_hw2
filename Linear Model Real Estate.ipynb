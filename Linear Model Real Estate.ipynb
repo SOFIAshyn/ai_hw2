{
 "cells": [
  {
   "cell_type": "markdown",
   "metadata": {},
   "source": [
    "# Regression\n",
    "### 1. Reading the Dataset ¶ "
   ]
  },
  {
   "cell_type": "code",
   "execution_count": 1039,
   "metadata": {},
   "outputs": [],
   "source": [
    "import pandas as pd\n",
    "df_real_estate = pd.read_csv('real-estate-regression.csv')\n",
    "# df_real_estate.head()"
   ]
  },
  {
   "cell_type": "markdown",
   "metadata": {},
   "source": [
    "### 2. Overview\n",
    "Columns:\n",
    "* **id** - id of the data row\n",
    "* **Вулиця** - the name of the street\n",
    "* **Район** - the area of the city\n",
    "* **Місто** - the city\n",
    "* **Область** - the city area\n",
    "* **Дата** - the date of the estate being posted on the data base\n",
    "* **Тип нерухомості** - the type of the real estate\n",
    "* **Ціна** - the price\n",
    "* **Тип ціни** - the currency\n",
    "* **Кімнат** - the number of rooms\n",
    "* **Поверх** - the floor of the real estate\n",
    "* **Поверховість** - the number of the floors in the estate\n",
    "* **Загальна площа** - the area of the estate\n",
    "* **Житлова площа** - the area of the estate inside\n",
    "* **Кухня** - the kitchen area\n",
    "* **Стіни** - the walls material\n",
    "* **Назва** - the name of the real estate\n",
    "* **Соток** - the area (1 sotka = 10 x 10 = 100 m2)\n",
    "* **Агенція** - the agency of the real estate\n",
    "* **Користувач** - the person or the agency that is selling\n",
    "* **Телефон** - the phone number\n",
    "* **Опис** - the description of the real estate"
   ]
  },
  {
   "cell_type": "code",
   "execution_count": 1040,
   "metadata": {},
   "outputs": [],
   "source": [
    "# data science\n",
    "import numpy as np\n",
    "import pandas as pd\n",
    "import matplotlib.pyplot as plt\n",
    "import seaborn as sns\n",
    "# regression models\n",
    "from sklearn.preprocessing import StandardScaler # for feature scaling\n",
    "from sklearn.pipeline import Pipeline # for using pipeline\n",
    "from sklearn.linear_model import LinearRegression # for linear regression\n",
    "from sklearn.preprocessing import PolynomialFeatures # for adding polynomial features\n",
    "from sklearn.linear_model import Ridge # for ridge regression\n",
    "from sklearn.linear_model import Lasso # for lasso regression\n",
    "from sklearn.svm import SVR # for support vector regression\n",
    "from sklearn.tree import DecisionTreeRegressor # for decisiton tree regression\n",
    "from sklearn.ensemble import RandomForestRegressor # for random forest regression\n",
    "from sklearn.model_selection import train_test_split \n",
    "# hyptertuning\n",
    "from sklearn.model_selection import GridSearchCV\n",
    "from sklearn.model_selection import RandomizedSearchCV\n",
    "from scipy.stats import randint as sp_randint\n",
    "# extra\n",
    "from scipy import stats\n",
    "from sklearn.metrics import r2_score\n",
    "from sklearn.metrics import mean_squared_error\n",
    "from sklearn.model_selection import cross_val_score\n",
    "from collections import Counter\n",
    "from IPython.core.display import display, HTML\n",
    "sns.set_style('darkgrid')"
   ]
  },
  {
   "cell_type": "markdown",
   "metadata": {},
   "source": [
    "### 3. Data Investigation"
   ]
  },
  {
   "cell_type": "code",
   "execution_count": 1041,
   "metadata": {},
   "outputs": [
    {
     "data": {
      "text/plain": [
       "id                 1615\n",
       "Вулиця             1576\n",
       "Район              1551\n",
       "Місто              1615\n",
       "Область            1615\n",
       "Дата               1615\n",
       "Тип нерухомості    1615\n",
       "Ціна               1615\n",
       "Тип ціни           1615\n",
       "Кімнат             1615\n",
       "Поверх             1615\n",
       "Поверховість       1615\n",
       "Загальна площа     1615\n",
       "Житлова площа      1312\n",
       "Кухня              1392\n",
       "Стіни              1615\n",
       "Назва                 0\n",
       "Соток                 0\n",
       "Агенція             761\n",
       "Користувач         1305\n",
       "Телефон            1615\n",
       "Опис                674\n",
       "dtype: int64"
      ]
     },
     "execution_count": 1041,
     "metadata": {},
     "output_type": "execute_result"
    }
   ],
   "source": [
    "df_real_estate.count()"
   ]
  },
  {
   "cell_type": "markdown",
   "metadata": {},
   "source": [
    "We'll change all the currencies to be dollars."
   ]
  },
  {
   "cell_type": "code",
   "execution_count": 1042,
   "metadata": {},
   "outputs": [],
   "source": [
    "# const\n",
    "uah = 28.16\n",
    "df_real_estate.loc[(df_real_estate[\"Тип ціни\"] == '$'), \"Ціна\"] =\\\n",
    "df_real_estate[df_real_estate['Тип ціни'] == '$']['Ціна'].map(lambda price: uah * price)\n",
    "df_real_estate = df_real_estate.\\\n",
    "drop(['Тип нерухомості', 'Тип ціни', 'Назва', 'Соток', 'id', 'Область', 'Місто', 'Телефон'], axis=1)"
   ]
  },
  {
   "cell_type": "markdown",
   "metadata": {},
   "source": [
    "We can see that `Назва` and `Соток` can be dropped from the dataset.\\\n",
    "We'll drop the `id` column, because it would spoil the result of the data correlation.\\\n",
    "There is just one city `Lviv` in dataset, so we wouldn't need this column.\\\n",
    "This data only includes houses, like `flat`, so we'll drop column of type of the institution.\n",
    "All the flats have phone numbers, so we'll drop `Телефон`"
   ]
  },
  {
   "cell_type": "code",
   "execution_count": 1043,
   "metadata": {},
   "outputs": [
    {
     "data": {
      "text/html": [
       "<div>\n",
       "<style scoped>\n",
       "    .dataframe tbody tr th:only-of-type {\n",
       "        vertical-align: middle;\n",
       "    }\n",
       "\n",
       "    .dataframe tbody tr th {\n",
       "        vertical-align: top;\n",
       "    }\n",
       "\n",
       "    .dataframe thead th {\n",
       "        text-align: right;\n",
       "    }\n",
       "</style>\n",
       "<table border=\"1\" class=\"dataframe\">\n",
       "  <thead>\n",
       "    <tr style=\"text-align: right;\">\n",
       "      <th></th>\n",
       "      <th>Вулиця</th>\n",
       "      <th>Район</th>\n",
       "      <th>Дата</th>\n",
       "      <th>Ціна</th>\n",
       "      <th>Кімнат</th>\n",
       "      <th>Поверх</th>\n",
       "      <th>Поверховість</th>\n",
       "      <th>Загальна площа</th>\n",
       "      <th>Житлова площа</th>\n",
       "      <th>Кухня</th>\n",
       "      <th>Стіни</th>\n",
       "      <th>Агенція</th>\n",
       "      <th>Користувач</th>\n",
       "      <th>Опис</th>\n",
       "    </tr>\n",
       "  </thead>\n",
       "  <tbody>\n",
       "    <tr>\n",
       "      <th>0</th>\n",
       "      <td>Бандеры Степана улица</td>\n",
       "      <td>Галицький</td>\n",
       "      <td>2018-10-12 14:40:23</td>\n",
       "      <td>1070080.0</td>\n",
       "      <td>2</td>\n",
       "      <td>5</td>\n",
       "      <td>5</td>\n",
       "      <td>51,1</td>\n",
       "      <td>15,5</td>\n",
       "      <td>16,5</td>\n",
       "      <td>цегла</td>\n",
       "      <td>NaN</td>\n",
       "      <td>Сергій</td>\n",
       "      <td>Продам 2-х комнатную квартиру по ул. Степана Б...</td>\n",
       "    </tr>\n",
       "    <tr>\n",
       "      <th>1</th>\n",
       "      <td>Беговая улица</td>\n",
       "      <td>Личаківський</td>\n",
       "      <td>2018-09-10 09:59:47</td>\n",
       "      <td>983614.0</td>\n",
       "      <td>2</td>\n",
       "      <td>9</td>\n",
       "      <td>16</td>\n",
       "      <td>65,14</td>\n",
       "      <td>28,69</td>\n",
       "      <td>9,9</td>\n",
       "      <td>монолітно-цегляний</td>\n",
       "      <td>ЖК Щасливий</td>\n",
       "      <td>Відділ продажу Щасливий</td>\n",
       "      <td>Подключены коммуникации, интернет, работающие ...</td>\n",
       "    </tr>\n",
       "    <tr>\n",
       "      <th>2</th>\n",
       "      <td>Беговая улица, 17</td>\n",
       "      <td>Личаківський</td>\n",
       "      <td>2018-09-10 10:00:56</td>\n",
       "      <td>583730.0</td>\n",
       "      <td>1</td>\n",
       "      <td>15</td>\n",
       "      <td>16</td>\n",
       "      <td>37,66</td>\n",
       "      <td>16,29</td>\n",
       "      <td>9,68</td>\n",
       "      <td>монолітно-цегляний</td>\n",
       "      <td>ЖК Щасливий</td>\n",
       "      <td>Відділ продажу Щасливий</td>\n",
       "      <td>Подключены коммуникации, интернет, работающие ...</td>\n",
       "    </tr>\n",
       "    <tr>\n",
       "      <th>3</th>\n",
       "      <td>Беговая улица</td>\n",
       "      <td>Личаківський</td>\n",
       "      <td>2018-09-10 10:00:29</td>\n",
       "      <td>613211.0</td>\n",
       "      <td>1</td>\n",
       "      <td>12</td>\n",
       "      <td>16</td>\n",
       "      <td>40,61</td>\n",
       "      <td>19,04</td>\n",
       "      <td>9,56</td>\n",
       "      <td>монолітно-цегляний</td>\n",
       "      <td>ЖК Щасливий</td>\n",
       "      <td>Відділ продажу Щасливий</td>\n",
       "      <td>Подключены коммуникации, интернет, работающие ...</td>\n",
       "    </tr>\n",
       "    <tr>\n",
       "      <th>4</th>\n",
       "      <td>Беговая улица</td>\n",
       "      <td>Личаківський</td>\n",
       "      <td>2018-09-05 15:40:30</td>\n",
       "      <td>628160.0</td>\n",
       "      <td>1</td>\n",
       "      <td>6</td>\n",
       "      <td>16</td>\n",
       "      <td>41,6</td>\n",
       "      <td>16,9</td>\n",
       "      <td>10,5</td>\n",
       "      <td>цегла</td>\n",
       "      <td>ЖК Щасливий</td>\n",
       "      <td>Відділ продажу Щасливий</td>\n",
       "      <td>Подключены коммуникации, интернет, работающие ...</td>\n",
       "    </tr>\n",
       "  </tbody>\n",
       "</table>\n",
       "</div>"
      ],
      "text/plain": [
       "                  Вулиця         Район                 Дата       Ціна  \\\n",
       "0  Бандеры Степана улица     Галицький  2018-10-12 14:40:23  1070080.0   \n",
       "1          Беговая улица  Личаківський  2018-09-10 09:59:47   983614.0   \n",
       "2      Беговая улица, 17  Личаківський  2018-09-10 10:00:56   583730.0   \n",
       "3          Беговая улица  Личаківський  2018-09-10 10:00:29   613211.0   \n",
       "4          Беговая улица  Личаківський  2018-09-05 15:40:30   628160.0   \n",
       "\n",
       "   Кімнат  Поверх  Поверховість Загальна площа Житлова площа Кухня  \\\n",
       "0       2       5             5           51,1          15,5  16,5   \n",
       "1       2       9            16          65,14         28,69   9,9   \n",
       "2       1      15            16          37,66         16,29  9,68   \n",
       "3       1      12            16          40,61         19,04  9,56   \n",
       "4       1       6            16           41,6          16,9  10,5   \n",
       "\n",
       "                Стіни      Агенція               Користувач  \\\n",
       "0               цегла          NaN                   Сергій   \n",
       "1  монолітно-цегляний  ЖК Щасливий  Відділ продажу Щасливий   \n",
       "2  монолітно-цегляний  ЖК Щасливий  Відділ продажу Щасливий   \n",
       "3  монолітно-цегляний  ЖК Щасливий  Відділ продажу Щасливий   \n",
       "4               цегла  ЖК Щасливий  Відділ продажу Щасливий   \n",
       "\n",
       "                                                Опис  \n",
       "0  Продам 2-х комнатную квартиру по ул. Степана Б...  \n",
       "1  Подключены коммуникации, интернет, работающие ...  \n",
       "2  Подключены коммуникации, интернет, работающие ...  \n",
       "3  Подключены коммуникации, интернет, работающие ...  \n",
       "4  Подключены коммуникации, интернет, работающие ...  "
      ]
     },
     "execution_count": 1043,
     "metadata": {},
     "output_type": "execute_result"
    }
   ],
   "source": [
    "df_real_estate.head()"
   ]
  },
  {
   "cell_type": "code",
   "execution_count": 1044,
   "metadata": {},
   "outputs": [],
   "source": [
    "df_real_estate['Опис'] = df_real_estate['Опис'].map(lambda text: len(text.split()) if isinstance(text, str) else 0)\n",
    "df_real_estate['Агенція'] = df_real_estate['Агенція'].map(lambda ag: 1 if ag is not np.nan else 0)\n",
    "df_real_estate['Користувач'] = df_real_estate['Користувач'].map(lambda name: 1 if name is not np.nan else 0)"
   ]
  },
  {
   "cell_type": "markdown",
   "metadata": {},
   "source": [
    "##### Deal with walls\n",
    "\n",
    "We have to divide the walls into different categories to know their impact on the outcome."
   ]
  },
  {
   "cell_type": "code",
   "execution_count": 1045,
   "metadata": {},
   "outputs": [],
   "source": [
    "# set(df_real_estate['Стіни'])"
   ]
  },
  {
   "cell_type": "code",
   "execution_count": 1046,
   "metadata": {},
   "outputs": [],
   "source": [
    "d_walls = {}\n",
    "for i, wall in enumerate(set(df_real_estate['Стіни'])):\n",
    "    if wall is not np.nan:\n",
    "        wall = wall.strip()\n",
    "        if wall in ['армированный железобетон', 'газобетон', 'газоблок', 'монолітно-блоковий', 'піноблок',\\\n",
    "                    'залізобетон', 'керамзитобетон', 'сборный железобетон', 'керамический блок', 'панель',\\\n",
    "                    'сборный железобетон']:\n",
    "            d_walls[wall] = 'Блоки'\n",
    "        elif wall in ['монолитно-каркасный', 'монолитный железобетон', 'моноліт']:\n",
    "            d_walls[wall] = 'Моноліт'\n",
    "        elif wall in ['керамический кирпич', 'монолітно-цегляний', 'силікатна цегла', 'цегла']:\n",
    "            d_walls[wall] = 'Цегла'\n",
    "df_real_estate['Стіни'] = df_real_estate['Стіни'].map(lambda wall: d_walls[wall.strip()])"
   ]
  },
  {
   "cell_type": "markdown",
   "metadata": {},
   "source": [
    "##### Deal with districts\n",
    "\n",
    "We have too many districts in the dataset, so we'll mannualy divide them into 7 cathegories."
   ]
  },
  {
   "cell_type": "code",
   "execution_count": 1047,
   "metadata": {},
   "outputs": [],
   "source": [
    "d_area = {}\n",
    "for i, area in enumerate(set(df_real_estate['Район'])):\n",
    "    if area is not np.nan:\n",
    "        if area in ['Новий Львів', 'Санта Барбара', 'Сихівський', 'Сыховский', 'Боднаровка', 'Бондарівка']:\n",
    "            d_area[area] = 'Сихів'\n",
    "        elif area in ['Галицький', 'Площа Ринок']:\n",
    "            d_area[area] = 'Галицький'\n",
    "        elif area in ['Замарстинів', 'Шевченківський', 'Голоско']:\n",
    "            d_area[area] = 'Шевченківський'\n",
    "        elif area in ['Залізничний', 'Левандівка']:\n",
    "            d_area[area] = 'Залізничний'\n",
    "        elif area in ['Личаків', 'Личаківський', 'Погулянка', 'Майорівка']:\n",
    "            d_area[area] = 'Личаків'\n",
    "        elif area in ['Наукова', 'Франковск��й', 'Франківський']:\n",
    "            d_area[area] = 'Франківський'\n",
    "        elif area in ['Рудне', 'Брюховичі', 'Зимна Вода', 'Рясне', 'Скнилів', 'Сокільники', 'Винники']:\n",
    "            d_area[area] = 'Села'\n",
    "    else:\n",
    "        d_area[area] = (df_real_estate['Район']).value_counts().idxmax()\n",
    "\n",
    "df_real_estate['Район'] = df_real_estate['Район'].map(lambda area: d_area[area])"
   ]
  },
  {
   "cell_type": "code",
   "execution_count": 1048,
   "metadata": {},
   "outputs": [
    {
     "data": {
      "text/plain": [
       "{nan: 'Франківський',\n",
       " 'Рудне': 'Села',\n",
       " 'Сихівський': 'Сихів',\n",
       " 'Майорівка': 'Личаків',\n",
       " 'Залізничний': 'Залізничний',\n",
       " 'Брюховичі': 'Села',\n",
       " 'Замарстинів': 'Шевченківський',\n",
       " 'Рясне': 'Села',\n",
       " 'Левандівка': 'Залізничний',\n",
       " 'Бондарівка': 'Сихів',\n",
       " 'Личаків': 'Личаків',\n",
       " 'Погулянка': 'Личаків',\n",
       " 'Шевченківський': 'Шевченківський',\n",
       " 'Франківський': 'Франківський',\n",
       " 'Новий Львів': 'Сихів',\n",
       " 'Винники': 'Села',\n",
       " 'Сокільники': 'Села',\n",
       " 'Личаківський': 'Личаків',\n",
       " 'Площа Ринок': 'Галицький',\n",
       " 'Боднаровка': 'Сихів',\n",
       " 'Сыховский': 'Сихів',\n",
       " 'Наукова': 'Франківський',\n",
       " 'Зимна Вода': 'Села',\n",
       " 'Галицький': 'Галицький',\n",
       " 'Скнилів': 'Села',\n",
       " 'Голоско': 'Шевченківський',\n",
       " 'Санта Барбара': 'Сихів',\n",
       " 'Франковск��й': 'Франківський'}"
      ]
     },
     "execution_count": 1048,
     "metadata": {},
     "output_type": "execute_result"
    }
   ],
   "source": [
    "d_area"
   ]
  },
  {
   "cell_type": "code",
   "execution_count": 1049,
   "metadata": {},
   "outputs": [
    {
     "data": {
      "text/html": [
       "<div>\n",
       "<style scoped>\n",
       "    .dataframe tbody tr th:only-of-type {\n",
       "        vertical-align: middle;\n",
       "    }\n",
       "\n",
       "    .dataframe tbody tr th {\n",
       "        vertical-align: top;\n",
       "    }\n",
       "\n",
       "    .dataframe thead th {\n",
       "        text-align: right;\n",
       "    }\n",
       "</style>\n",
       "<table border=\"1\" class=\"dataframe\">\n",
       "  <thead>\n",
       "    <tr style=\"text-align: right;\">\n",
       "      <th></th>\n",
       "      <th>Район</th>\n",
       "      <th>Ціна</th>\n",
       "      <th>Кімнат</th>\n",
       "      <th>Поверх</th>\n",
       "      <th>Поверховість</th>\n",
       "      <th>Загальна площа</th>\n",
       "      <th>Житлова площа</th>\n",
       "      <th>Кухня</th>\n",
       "      <th>Стіни</th>\n",
       "      <th>Агенція</th>\n",
       "      <th>Користувач</th>\n",
       "      <th>Опис</th>\n",
       "    </tr>\n",
       "  </thead>\n",
       "  <tbody>\n",
       "    <tr>\n",
       "      <th>0</th>\n",
       "      <td>Галицький</td>\n",
       "      <td>1070080.0</td>\n",
       "      <td>2</td>\n",
       "      <td>5</td>\n",
       "      <td>5</td>\n",
       "      <td>51.10</td>\n",
       "      <td>30.00000</td>\n",
       "      <td>32.0</td>\n",
       "      <td>Цегла</td>\n",
       "      <td>0</td>\n",
       "      <td>1</td>\n",
       "      <td>53</td>\n",
       "    </tr>\n",
       "    <tr>\n",
       "      <th>1</th>\n",
       "      <td>Личаків</td>\n",
       "      <td>983614.0</td>\n",
       "      <td>2</td>\n",
       "      <td>9</td>\n",
       "      <td>16</td>\n",
       "      <td>65.14</td>\n",
       "      <td>44.00000</td>\n",
       "      <td>15.0</td>\n",
       "      <td>Цегла</td>\n",
       "      <td>1</td>\n",
       "      <td>1</td>\n",
       "      <td>208</td>\n",
       "    </tr>\n",
       "    <tr>\n",
       "      <th>2</th>\n",
       "      <td>Личаків</td>\n",
       "      <td>583730.0</td>\n",
       "      <td>1</td>\n",
       "      <td>15</td>\n",
       "      <td>16</td>\n",
       "      <td>37.66</td>\n",
       "      <td>43.00000</td>\n",
       "      <td>26.0</td>\n",
       "      <td>Цегла</td>\n",
       "      <td>1</td>\n",
       "      <td>1</td>\n",
       "      <td>222</td>\n",
       "    </tr>\n",
       "    <tr>\n",
       "      <th>3</th>\n",
       "      <td>Личаків</td>\n",
       "      <td>613211.0</td>\n",
       "      <td>1</td>\n",
       "      <td>12</td>\n",
       "      <td>16</td>\n",
       "      <td>40.61</td>\n",
       "      <td>47.00000</td>\n",
       "      <td>24.0</td>\n",
       "      <td>Цегла</td>\n",
       "      <td>1</td>\n",
       "      <td>1</td>\n",
       "      <td>238</td>\n",
       "    </tr>\n",
       "    <tr>\n",
       "      <th>4</th>\n",
       "      <td>Личаків</td>\n",
       "      <td>628160.0</td>\n",
       "      <td>1</td>\n",
       "      <td>6</td>\n",
       "      <td>16</td>\n",
       "      <td>41.60</td>\n",
       "      <td>41.00000</td>\n",
       "      <td>25.0</td>\n",
       "      <td>Цегла</td>\n",
       "      <td>1</td>\n",
       "      <td>1</td>\n",
       "      <td>234</td>\n",
       "    </tr>\n",
       "    <tr>\n",
       "      <th>...</th>\n",
       "      <td>...</td>\n",
       "      <td>...</td>\n",
       "      <td>...</td>\n",
       "      <td>...</td>\n",
       "      <td>...</td>\n",
       "      <td>...</td>\n",
       "      <td>...</td>\n",
       "      <td>...</td>\n",
       "      <td>...</td>\n",
       "      <td>...</td>\n",
       "      <td>...</td>\n",
       "      <td>...</td>\n",
       "    </tr>\n",
       "    <tr>\n",
       "      <th>1610</th>\n",
       "      <td>Шевченківський</td>\n",
       "      <td>1182720.0</td>\n",
       "      <td>2</td>\n",
       "      <td>1</td>\n",
       "      <td>2</td>\n",
       "      <td>44.00</td>\n",
       "      <td>56.09375</td>\n",
       "      <td>9.0</td>\n",
       "      <td>Цегла</td>\n",
       "      <td>0</td>\n",
       "      <td>0</td>\n",
       "      <td>0</td>\n",
       "    </tr>\n",
       "    <tr>\n",
       "      <th>1611</th>\n",
       "      <td>Села</td>\n",
       "      <td>929280.0</td>\n",
       "      <td>2</td>\n",
       "      <td>8</td>\n",
       "      <td>9</td>\n",
       "      <td>49.40</td>\n",
       "      <td>59.00000</td>\n",
       "      <td>14.0</td>\n",
       "      <td>Блоки</td>\n",
       "      <td>0</td>\n",
       "      <td>1</td>\n",
       "      <td>0</td>\n",
       "    </tr>\n",
       "    <tr>\n",
       "      <th>1612</th>\n",
       "      <td>Галицький</td>\n",
       "      <td>929280.0</td>\n",
       "      <td>2</td>\n",
       "      <td>2</td>\n",
       "      <td>3</td>\n",
       "      <td>48.00</td>\n",
       "      <td>77.00000</td>\n",
       "      <td>17.0</td>\n",
       "      <td>Цегла</td>\n",
       "      <td>1</td>\n",
       "      <td>1</td>\n",
       "      <td>33</td>\n",
       "    </tr>\n",
       "    <tr>\n",
       "      <th>1613</th>\n",
       "      <td>Галицький</td>\n",
       "      <td>1312256.0</td>\n",
       "      <td>1</td>\n",
       "      <td>2</td>\n",
       "      <td>8</td>\n",
       "      <td>39.00</td>\n",
       "      <td>44.00000</td>\n",
       "      <td>31.0</td>\n",
       "      <td>Цегла</td>\n",
       "      <td>1</td>\n",
       "      <td>1</td>\n",
       "      <td>0</td>\n",
       "    </tr>\n",
       "    <tr>\n",
       "      <th>1614</th>\n",
       "      <td>Сихів</td>\n",
       "      <td>1408000.0</td>\n",
       "      <td>2</td>\n",
       "      <td>6</td>\n",
       "      <td>9</td>\n",
       "      <td>71.00</td>\n",
       "      <td>42.00000</td>\n",
       "      <td>21.0</td>\n",
       "      <td>Цегла</td>\n",
       "      <td>0</td>\n",
       "      <td>1</td>\n",
       "      <td>0</td>\n",
       "    </tr>\n",
       "  </tbody>\n",
       "</table>\n",
       "<p>1615 rows × 12 columns</p>\n",
       "</div>"
      ],
      "text/plain": [
       "               Район       Ціна  Кімнат  Поверх  Поверховість  Загальна площа  \\\n",
       "0          Галицький  1070080.0       2       5             5           51.10   \n",
       "1            Личаків   983614.0       2       9            16           65.14   \n",
       "2            Личаків   583730.0       1      15            16           37.66   \n",
       "3            Личаків   613211.0       1      12            16           40.61   \n",
       "4            Личаків   628160.0       1       6            16           41.60   \n",
       "...              ...        ...     ...     ...           ...             ...   \n",
       "1610  Шевченківський  1182720.0       2       1             2           44.00   \n",
       "1611            Села   929280.0       2       8             9           49.40   \n",
       "1612       Галицький   929280.0       2       2             3           48.00   \n",
       "1613       Галицький  1312256.0       1       2             8           39.00   \n",
       "1614           Сихів  1408000.0       2       6             9           71.00   \n",
       "\n",
       "      Житлова площа  Кухня  Стіни  Агенція  Користувач  Опис  \n",
       "0          30.00000   32.0  Цегла        0           1    53  \n",
       "1          44.00000   15.0  Цегла        1           1   208  \n",
       "2          43.00000   26.0  Цегла        1           1   222  \n",
       "3          47.00000   24.0  Цегла        1           1   238  \n",
       "4          41.00000   25.0  Цегла        1           1   234  \n",
       "...             ...    ...    ...      ...         ...   ...  \n",
       "1610       56.09375    9.0  Цегла        0           0     0  \n",
       "1611       59.00000   14.0  Блоки        0           1     0  \n",
       "1612       77.00000   17.0  Цегла        1           1    33  \n",
       "1613       44.00000   31.0  Цегла        1           1     0  \n",
       "1614       42.00000   21.0  Цегла        0           1     0  \n",
       "\n",
       "[1615 rows x 12 columns]"
      ]
     },
     "execution_count": 1049,
     "metadata": {},
     "output_type": "execute_result"
    }
   ],
   "source": [
    "# drop monotonous data\n",
    "df_real_estate = df_real_estate.drop(['Вулиця', 'Дата'], axis=1)\n",
    "\n",
    "# convert to float\n",
    "df_real_estate['Загальна площа'] = df_real_estate['Загальна площа'].\\\n",
    "map(lambda area: float(area.replace(',', '.')) if isinstance(area, str) else area)\n",
    "\n",
    "df_real_estate['Житлова площа'] = df_real_estate['Житлова площа'].\\\n",
    "map(lambda area: float(area.replace(',', '.')) if isinstance(area, str) else area)\n",
    "\n",
    "df_real_estate['Кухня'] = df_real_estate['Кухня'].\\\n",
    "map(lambda area: float(area.replace(',', '.')) if isinstance(area, str) else area)\n",
    "\n",
    "kitchen, living_area = [], []\n",
    "for i, area in enumerate(df_real_estate[['Загальна площа', 'Житлова площа', 'Кухня']].itertuples(index=False)):\n",
    "    living_area.append(round((float(area[1]) * 100) / float(area[0]), 0))\n",
    "    kitchen.append(round((area[2] * 100) / area[0], 0))\n",
    "df_real_estate['Кухня'] = kitchen\n",
    "df_real_estate['Житлова площа'] = living_area\n",
    "\n",
    "# fill nan's\n",
    "for col in ['Загальна площа', 'Житлова площа', 'Кухня']:\n",
    "    df_real_estate[col] = df_real_estate[col].fillna(np.mean(df_real_estate[col]))\n",
    "df_real_estate"
   ]
  },
  {
   "cell_type": "code",
   "execution_count": 1050,
   "metadata": {},
   "outputs": [
    {
     "data": {
      "image/png": "[encoded data removed]",
      "text/plain": [
       "<Figure size 720x576 with 2 Axes>"
      ]
     },
     "metadata": {},
     "output_type": "display_data"
    }
   ],
   "source": [
    "corr = df_real_estate.corr()\n",
    "#Plot figsize\n",
    "fig, ax = plt.subplots(figsize=(10, 8))\n",
    "#Generate Heat Map, allow annotations and place floats in map\n",
    "sns.heatmap(corr, cmap='coolwarm', annot=True, fmt=\".2f\")\n",
    "#Apply xticks\n",
    "plt.xticks(range(len(corr.columns)), corr.columns)\n",
    "#Apply yticks\n",
    "plt.yticks(range(len(corr.columns)), corr.columns)\n",
    "#show plot\n",
    "plt.show()"
   ]
  },
  {
   "cell_type": "code",
   "execution_count": 1051,
   "metadata": {},
   "outputs": [],
   "source": [
    "df_real_estate['z_score']=stats.zscore(df_real_estate['Ціна'])"
   ]
  },
  {
   "cell_type": "code",
   "execution_count": 1052,
   "metadata": {},
   "outputs": [],
   "source": [
    "df_real_estate = df_real_estate.loc[df_real_estate['z_score'].abs() <= 6.5]"
   ]
  },
  {
   "cell_type": "code",
   "execution_count": 1053,
   "metadata": {},
   "outputs": [
    {
     "data": {
      "image/png": "[encoded data removed]",
      "text/plain": [
       "<Figure size 1440x288 with 2 Axes>"
      ]
     },
     "metadata": {},
     "output_type": "display_data"
    }
   ],
   "source": [
    "f, axes = plt.subplots(1,2,figsize=(20,4))\n",
    "\n",
    "sns.countplot(df_real_estate['Район'], ax = axes[0], palette=\"Set1\")\n",
    "axes[0].set_xlabel('Район', fontsize=14)\n",
    "axes[0].set_ylabel('Кількість', fontsize=14)\n",
    "axes[0].yaxis.tick_left()\n",
    "\n",
    "sns.boxplot(x=df_real_estate['Район'], y=df_real_estate['Ціна'], data=dataset, ax=axes[1])\n",
    "axes[1].set_xlabel('Район', fontsize=14)\n",
    "axes[1].set_ylabel('Ціна', fontsize=14)\n",
    "axes[1].yaxis.tick_right()\n",
    "\n",
    "plt.show()"
   ]
  },
  {
   "cell_type": "code",
   "execution_count": 1054,
   "metadata": {},
   "outputs": [],
   "source": [
    "df_real_estate = df_real_estate.drop(['Стіни', 'Агенція', 'Поверх', 'Житлова площа', 'Поверховість', 'Кухня'], axis=1)"
   ]
  },
  {
   "cell_type": "code",
   "execution_count": 1055,
   "metadata": {},
   "outputs": [
    {
     "data": {
      "text/plain": [
       "Район             1612\n",
       "Ціна              1612\n",
       "Кімнат            1612\n",
       "Загальна площа    1612\n",
       "Користувач        1612\n",
       "Опис              1612\n",
       "z_score           1612\n",
       "dtype: int64"
      ]
     },
     "execution_count": 1055,
     "metadata": {},
     "output_type": "execute_result"
    }
   ],
   "source": [
    "df_real_estate.count()"
   ]
  },
  {
   "cell_type": "markdown",
   "metadata": {},
   "source": [
    "We have quite a lot of `NaN` values.\\\n",
    "Let us suppose, how we can replace them.\\\n",
    "The `street` we can guess out of the `district` or replace with a median of this column.\\\n",
    "The `description` we can convert into the number of words.\\\n",
    "\\\n",
    "The `agency` and the `user` we can try to predict. Out of one another. And then convert them into dummy values, ageny - 1, a person - 0.\\\n",
    "\\\n",
    "The last, but not the least, we have two nomerous columns: `house area` and `kitchen`, that must have the replacement of the `NaN`'s to the number.\\\n",
    "We can replace the values with `mean` | `median` | `KNN value` | `MICE predicted value`. We'll see what works better.\\\n"
   ]
  },
  {
   "cell_type": "code",
   "execution_count": 1056,
   "metadata": {},
   "outputs": [
    {
     "data": {
      "text/html": [
       "<div>\n",
       "<style scoped>\n",
       "    .dataframe tbody tr th:only-of-type {\n",
       "        vertical-align: middle;\n",
       "    }\n",
       "\n",
       "    .dataframe tbody tr th {\n",
       "        vertical-align: top;\n",
       "    }\n",
       "\n",
       "    .dataframe thead th {\n",
       "        text-align: right;\n",
       "    }\n",
       "</style>\n",
       "<table border=\"1\" class=\"dataframe\">\n",
       "  <thead>\n",
       "    <tr style=\"text-align: right;\">\n",
       "      <th></th>\n",
       "      <th>Ціна</th>\n",
       "      <th>Кімнат</th>\n",
       "      <th>Загальна площа</th>\n",
       "      <th>Користувач</th>\n",
       "      <th>Опис</th>\n",
       "      <th>z_score</th>\n",
       "    </tr>\n",
       "  </thead>\n",
       "  <tbody>\n",
       "    <tr>\n",
       "      <th>count</th>\n",
       "      <td>1.612000e+03</td>\n",
       "      <td>1612.000000</td>\n",
       "      <td>1612.000000</td>\n",
       "      <td>1612.000000</td>\n",
       "      <td>1612.000000</td>\n",
       "      <td>1612.000000</td>\n",
       "    </tr>\n",
       "    <tr>\n",
       "      <th>mean</th>\n",
       "      <td>1.797019e+06</td>\n",
       "      <td>2.145161</td>\n",
       "      <td>69.427481</td>\n",
       "      <td>0.808933</td>\n",
       "      <td>20.725186</td>\n",
       "      <td>-0.029493</td>\n",
       "    </tr>\n",
       "    <tr>\n",
       "      <th>std</th>\n",
       "      <td>1.469034e+06</td>\n",
       "      <td>1.042258</td>\n",
       "      <td>36.909314</td>\n",
       "      <td>0.393264</td>\n",
       "      <td>37.724534</td>\n",
       "      <td>0.678216</td>\n",
       "    </tr>\n",
       "    <tr>\n",
       "      <th>min</th>\n",
       "      <td>7.000000e+04</td>\n",
       "      <td>1.000000</td>\n",
       "      <td>2.000000</td>\n",
       "      <td>0.000000</td>\n",
       "      <td>0.000000</td>\n",
       "      <td>-0.826814</td>\n",
       "    </tr>\n",
       "    <tr>\n",
       "      <th>25%</th>\n",
       "      <td>1.010944e+06</td>\n",
       "      <td>1.000000</td>\n",
       "      <td>45.000000</td>\n",
       "      <td>1.000000</td>\n",
       "      <td>0.000000</td>\n",
       "      <td>-0.392404</td>\n",
       "    </tr>\n",
       "    <tr>\n",
       "      <th>50%</th>\n",
       "      <td>1.323520e+06</td>\n",
       "      <td>2.000000</td>\n",
       "      <td>62.000000</td>\n",
       "      <td>1.000000</td>\n",
       "      <td>0.000000</td>\n",
       "      <td>-0.248096</td>\n",
       "    </tr>\n",
       "    <tr>\n",
       "      <th>75%</th>\n",
       "      <td>2.027520e+06</td>\n",
       "      <td>3.000000</td>\n",
       "      <td>81.000000</td>\n",
       "      <td>1.000000</td>\n",
       "      <td>29.250000</td>\n",
       "      <td>0.076923</td>\n",
       "    </tr>\n",
       "    <tr>\n",
       "      <th>max</th>\n",
       "      <td>1.548800e+07</td>\n",
       "      <td>8.000000</td>\n",
       "      <td>514.000000</td>\n",
       "      <td>1.000000</td>\n",
       "      <td>287.000000</td>\n",
       "      <td>6.291284</td>\n",
       "    </tr>\n",
       "  </tbody>\n",
       "</table>\n",
       "</div>"
      ],
      "text/plain": [
       "               Ціна       Кімнат  Загальна площа   Користувач         Опис  \\\n",
       "count  1.612000e+03  1612.000000     1612.000000  1612.000000  1612.000000   \n",
       "mean   1.797019e+06     2.145161       69.427481     0.808933    20.725186   \n",
       "std    1.469034e+06     1.042258       36.909314     0.393264    37.724534   \n",
       "min    7.000000e+04     1.000000        2.000000     0.000000     0.000000   \n",
       "25%    1.010944e+06     1.000000       45.000000     1.000000     0.000000   \n",
       "50%    1.323520e+06     2.000000       62.000000     1.000000     0.000000   \n",
       "75%    2.027520e+06     3.000000       81.000000     1.000000    29.250000   \n",
       "max    1.548800e+07     8.000000      514.000000     1.000000   287.000000   \n",
       "\n",
       "           z_score  \n",
       "count  1612.000000  \n",
       "mean     -0.029493  \n",
       "std       0.678216  \n",
       "min      -0.826814  \n",
       "25%      -0.392404  \n",
       "50%      -0.248096  \n",
       "75%       0.076923  \n",
       "max       6.291284  "
      ]
     },
     "execution_count": 1056,
     "metadata": {},
     "output_type": "execute_result"
    }
   ],
   "source": [
    "df_real_estate.describe()"
   ]
  },
  {
   "cell_type": "code",
   "execution_count": 1057,
   "metadata": {},
   "outputs": [
    {
     "data": {
      "text/plain": [
       "Район             0\n",
       "Ціна              0\n",
       "Кімнат            0\n",
       "Загальна площа    0\n",
       "Користувач        0\n",
       "Опис              0\n",
       "z_score           0\n",
       "dtype: int64"
      ]
     },
     "execution_count": 1057,
     "metadata": {},
     "output_type": "execute_result"
    }
   ],
   "source": [
    "df_real_estate.isnull().sum()"
   ]
  },
  {
   "cell_type": "code",
   "execution_count": 1058,
   "metadata": {},
   "outputs": [
    {
     "data": {
      "image/png": "[encoded data removed]",
      "text/plain": [
       "<Figure size 720x576 with 2 Axes>"
      ]
     },
     "metadata": {},
     "output_type": "display_data"
    }
   ],
   "source": [
    "corr = df_real_estate.corr()\n",
    "#Plot figsize\n",
    "fig, ax = plt.subplots(figsize=(10, 8))\n",
    "#Generate Heat Map, allow annotations and place floats in map\n",
    "sns.heatmap(corr, cmap='coolwarm', annot=True, fmt=\".2f\")\n",
    "#Apply xticks\n",
    "plt.xticks(range(len(corr.columns)), corr.columns)\n",
    "#Apply yticks\n",
    "plt.yticks(range(len(corr.columns)), corr.columns)\n",
    "#show plot\n",
    "plt.show()"
   ]
  },
  {
   "cell_type": "markdown",
   "metadata": {},
   "source": [
    "So, now we can see that the `price` of the houses really depends on the `number of rooms`, the `general area` of the flat.\\\n",
    "There is a bit the `description` takes part."
   ]
  },
  {
   "cell_type": "code",
   "execution_count": 1059,
   "metadata": {},
   "outputs": [],
   "source": [
    "df_real_estate = pd.get_dummies(df_real_estate)"
   ]
  },
  {
   "cell_type": "code",
   "execution_count": 1060,
   "metadata": {},
   "outputs": [
    {
     "data": {
      "text/html": [
       "<div>\n",
       "<style scoped>\n",
       "    .dataframe tbody tr th:only-of-type {\n",
       "        vertical-align: middle;\n",
       "    }\n",
       "\n",
       "    .dataframe tbody tr th {\n",
       "        vertical-align: top;\n",
       "    }\n",
       "\n",
       "    .dataframe thead th {\n",
       "        text-align: right;\n",
       "    }\n",
       "</style>\n",
       "<table border=\"1\" class=\"dataframe\">\n",
       "  <thead>\n",
       "    <tr style=\"text-align: right;\">\n",
       "      <th></th>\n",
       "      <th>Ціна</th>\n",
       "      <th>Кімнат</th>\n",
       "      <th>Загальна площа</th>\n",
       "      <th>Користувач</th>\n",
       "      <th>Опис</th>\n",
       "      <th>z_score</th>\n",
       "      <th>Район_Галицький</th>\n",
       "      <th>Район_Залізничний</th>\n",
       "      <th>Район_Личаків</th>\n",
       "      <th>Район_Села</th>\n",
       "      <th>Район_Сихів</th>\n",
       "      <th>Район_Франківський</th>\n",
       "      <th>Район_Шевченківський</th>\n",
       "    </tr>\n",
       "  </thead>\n",
       "  <tbody>\n",
       "    <tr>\n",
       "      <th>0</th>\n",
       "      <td>1070080.0</td>\n",
       "      <td>2</td>\n",
       "      <td>51.10</td>\n",
       "      <td>1</td>\n",
       "      <td>53</td>\n",
       "      <td>-0.365102</td>\n",
       "      <td>1</td>\n",
       "      <td>0</td>\n",
       "      <td>0</td>\n",
       "      <td>0</td>\n",
       "      <td>0</td>\n",
       "      <td>0</td>\n",
       "      <td>0</td>\n",
       "    </tr>\n",
       "    <tr>\n",
       "      <th>1</th>\n",
       "      <td>983614.0</td>\n",
       "      <td>2</td>\n",
       "      <td>65.14</td>\n",
       "      <td>1</td>\n",
       "      <td>208</td>\n",
       "      <td>-0.405022</td>\n",
       "      <td>0</td>\n",
       "      <td>0</td>\n",
       "      <td>1</td>\n",
       "      <td>0</td>\n",
       "      <td>0</td>\n",
       "      <td>0</td>\n",
       "      <td>0</td>\n",
       "    </tr>\n",
       "    <tr>\n",
       "      <th>2</th>\n",
       "      <td>583730.0</td>\n",
       "      <td>1</td>\n",
       "      <td>37.66</td>\n",
       "      <td>1</td>\n",
       "      <td>222</td>\n",
       "      <td>-0.589638</td>\n",
       "      <td>0</td>\n",
       "      <td>0</td>\n",
       "      <td>1</td>\n",
       "      <td>0</td>\n",
       "      <td>0</td>\n",
       "      <td>0</td>\n",
       "      <td>0</td>\n",
       "    </tr>\n",
       "    <tr>\n",
       "      <th>3</th>\n",
       "      <td>613211.0</td>\n",
       "      <td>1</td>\n",
       "      <td>40.61</td>\n",
       "      <td>1</td>\n",
       "      <td>238</td>\n",
       "      <td>-0.576027</td>\n",
       "      <td>0</td>\n",
       "      <td>0</td>\n",
       "      <td>1</td>\n",
       "      <td>0</td>\n",
       "      <td>0</td>\n",
       "      <td>0</td>\n",
       "      <td>0</td>\n",
       "    </tr>\n",
       "    <tr>\n",
       "      <th>4</th>\n",
       "      <td>628160.0</td>\n",
       "      <td>1</td>\n",
       "      <td>41.60</td>\n",
       "      <td>1</td>\n",
       "      <td>234</td>\n",
       "      <td>-0.569126</td>\n",
       "      <td>0</td>\n",
       "      <td>0</td>\n",
       "      <td>1</td>\n",
       "      <td>0</td>\n",
       "      <td>0</td>\n",
       "      <td>0</td>\n",
       "      <td>0</td>\n",
       "    </tr>\n",
       "  </tbody>\n",
       "</table>\n",
       "</div>"
      ],
      "text/plain": [
       "        Ціна  Кімнат  Загальна площа  Користувач  Опис   z_score  \\\n",
       "0  1070080.0       2           51.10           1    53 -0.365102   \n",
       "1   983614.0       2           65.14           1   208 -0.405022   \n",
       "2   583730.0       1           37.66           1   222 -0.589638   \n",
       "3   613211.0       1           40.61           1   238 -0.576027   \n",
       "4   628160.0       1           41.60           1   234 -0.569126   \n",
       "\n",
       "   Район_Галицький  Район_Залізничний  Район_Личаків  Район_Села  Район_Сихів  \\\n",
       "0                1                  0              0           0            0   \n",
       "1                0                  0              1           0            0   \n",
       "2                0                  0              1           0            0   \n",
       "3                0                  0              1           0            0   \n",
       "4                0                  0              1           0            0   \n",
       "\n",
       "   Район_Франківський  Район_Шевченківський  \n",
       "0                   0                     0  \n",
       "1                   0                     0  \n",
       "2                   0                     0  \n",
       "3                   0                     0  \n",
       "4                   0                     0  "
      ]
     },
     "execution_count": 1060,
     "metadata": {},
     "output_type": "execute_result"
    }
   ],
   "source": [
    "df_real_estate.head()"
   ]
  },
  {
   "cell_type": "code",
   "execution_count": 1061,
   "metadata": {},
   "outputs": [],
   "source": [
    "df_real_estate = df_real_estate.drop(['z_score'], axis=1)"
   ]
  },
  {
   "cell_type": "code",
   "execution_count": 1062,
   "metadata": {},
   "outputs": [],
   "source": [
    "X = df_real_estate.drop('Ціна', axis = 1).values\n",
    "y = df_real_estate['Ціна'].values.reshape(-1,1)"
   ]
  },
  {
   "cell_type": "code",
   "execution_count": 1063,
   "metadata": {},
   "outputs": [],
   "source": [
    "X_train, X_test, y_train, y_test = train_test_split(X, y, shuffle=True, test_size=0.2, random_state=1)\n",
    "\n",
    "X_train, X_val, y_train, y_val = train_test_split(X_train, y_train, shuffle=True, test_size=0.25, random_state=1)"
   ]
  },
  {
   "cell_type": "code",
   "execution_count": 1064,
   "metadata": {},
   "outputs": [
    {
     "name": "stdout",
     "output_type": "stream",
     "text": [
      "Shape of X_train:  (966, 11)\n",
      "Shape of X_test:  (323, 11)\n",
      "Shape of X_val:  (323, 11)\n",
      "Shape of y_train:  (966, 1)\n",
      "Shape of y_test (323, 1)\n",
      "Shape of y_val (323, 1)\n"
     ]
    }
   ],
   "source": [
    "print(\"Shape of X_train: \",X_train.shape)\n",
    "print(\"Shape of X_test: \", X_test.shape)\n",
    "print(\"Shape of X_val: \",X_val.shape)\n",
    "print(\"Shape of y_train: \",y_train.shape)\n",
    "print(\"Shape of y_test\",y_test.shape)\n",
    "print(\"Shape of y_val\",y_val.shape)"
   ]
  },
  {
   "cell_type": "markdown",
   "metadata": {},
   "source": [
    "### Regression Models"
   ]
  },
  {
   "cell_type": "code",
   "execution_count": 1065,
   "metadata": {},
   "outputs": [],
   "source": [
    "lm = LinearRegression()\n",
    "model = lm.fit(X_train, y_train)\n",
    "predictions = lm.predict(X_test)"
   ]
  },
  {
   "cell_type": "code",
   "execution_count": 1066,
   "metadata": {},
   "outputs": [
    {
     "data": {
      "text/plain": [
       "Text(0, 0.5, 'Predictions')"
      ]
     },
     "execution_count": 1066,
     "metadata": {},
     "output_type": "execute_result"
    },
    {
     "data": {
      "image/png": "[encoded data removed]",
      "text/plain": [
       "<Figure size 432x288 with 1 Axes>"
      ]
     },
     "metadata": {},
     "output_type": "display_data"
    }
   ],
   "source": [
    "## The line / model\n",
    "plt.scatter(y_test, predictions)\n",
    "plt.xlabel('True Values')\n",
    "plt.ylabel('Predictions')"
   ]
  },
  {
   "cell_type": "code",
   "execution_count": 1067,
   "metadata": {},
   "outputs": [
    {
     "name": "stdout",
     "output_type": "stream",
     "text": [
      "Score: 0.6446068973843868\n"
     ]
    }
   ],
   "source": [
    "print('Score:', model.score(X_test, y_test))"
   ]
  },
  {
   "cell_type": "code",
   "execution_count": 1081,
   "metadata": {},
   "outputs": [
    {
     "name": "stdout",
     "output_type": "stream",
     "text": [
      "CV:  0.5166458569258392\n",
      "R2_score (train):  0.555436892893958\n",
      "R2_score (test):  0.6446068973843868\n",
      "RMSE:  733042.3601619711\n"
     ]
    }
   ],
   "source": [
    "# Predicting Cross Validation Score the Test set results\n",
    "cv_linear = cross_val_score(estimator=lm, X=X, y=y, cv=8)\n",
    "\n",
    "# Predicting R2 Score the Train set results\n",
    "y_pred_linear_train = lm.predict(X_train)\n",
    "r2_score_linear_train = r2_score(y_train, y_pred_linear_train)\n",
    "\n",
    "# Predicting R2 Score the Test set results\n",
    "y_pred_linear_test = lm.predict(X_test)\n",
    "r2_score_linear_test = r2_score(y_test, y_pred_linear_test)\n",
    "\n",
    "# Predicting RMSE the Test set results\n",
    "# Root Mean Squere Error\n",
    "rmse_linear = (np.sqrt(mean_squared_error(y_test, y_pred_linear_test)))\n",
    "print(\"CV: \", cv_linear.mean())\n",
    "print('R2_score (train): ', r2_score_linear_train)\n",
    "print('R2_score (test): ', r2_score_linear_test)\n",
    "print(\"RMSE: \", rmse_linear)"
   ]
  },
  {
   "cell_type": "code",
   "execution_count": 1069,
   "metadata": {},
   "outputs": [],
   "source": [
    "def calc_train_error(X_train, y_train, model):\n",
    "    '''returns in-sample error for already fit model.'''\n",
    "    predictions = model.predict(X_train)\n",
    "    mse = mean_squared_error(y_train, predictions)\n",
    "    rmse = np.sqrt(mse)\n",
    "    return mse\n",
    "    \n",
    "def calc_validation_error(X_test, y_test, model):\n",
    "    '''returns out-of-sample error for already fit model.'''\n",
    "    predictions = model.predict(X_test)\n",
    "    mse = mean_squared_error(y_test, predictions)\n",
    "    rmse = np.sqrt(mse)\n",
    "    return mse\n",
    "    \n",
    "def calc_metrics(X_train, y_train, X_test, y_test, model):\n",
    "    '''fits model and returns the RMSE for in-sample error and out-of-sample error'''\n",
    "    model.fit(X_train, y_train)\n",
    "    train_error = calc_train_error(X_train, y_train, model)\n",
    "    validation_error = calc_validation_error(X_test, y_test, model)\n",
    "    return train_error, validation_error"
   ]
  },
  {
   "cell_type": "code",
   "execution_count": 1070,
   "metadata": {},
   "outputs": [
    {
     "name": "stdout",
     "output_type": "stream",
     "text": [
      "train error: 1140640583941.591 | test error: 537351101791.833\n",
      "train/test: 0.5\n"
     ]
    }
   ],
   "source": [
    "train_error, test_error = calc_metrics(X_train, y_train, X_test, y_test, lm)\n",
    "train_error, test_error = round(train_error, 3), round(test_error, 3)\n",
    "\n",
    "print('train error: {} | test error: {}'.format(train_error, test_error))\n",
    "print('train/test: {}'.format(round(test_error/train_error, 1)))"
   ]
  },
  {
   "cell_type": "code",
   "execution_count": 1072,
   "metadata": {},
   "outputs": [
    {
     "name": "stdout",
     "output_type": "stream",
     "text": [
      "train: 0.6% | validation: 0.2% | test 0.2%\n"
     ]
    }
   ],
   "source": [
    "# delete intermediate variables\n",
    "# del X_intermediate, y_intermediate\n",
    "\n",
    "# print proportions\n",
    "print('train: {}% | validation: {}% | test {}%'.format(round(len(y_train)/len(df_real_estate['Ціна']),2),\n",
    "                                                       round(len(y_val)/len(df_real_estate['Ціна']),2),\n",
    "                                                       round(len(y_test)/len(df_real_estate['Ціна']),2)))"
   ]
  },
  {
   "cell_type": "code",
   "execution_count": null,
   "metadata": {},
   "outputs": [],
   "source": []
  }
 ],
 "metadata": {
  "kernelspec": {
   "display_name": "Python 3",
   "language": "python",
   "name": "python3"
  },
  "language_info": {
   "codemirror_mode": {
    "name": "ipython",
    "version": 3
   },
   "file_extension": ".py",
   "mimetype": "text/x-python",
   "name": "python",
   "nbconvert_exporter": "python",
   "pygments_lexer": "ipython3",
   "version": "3.7.7"
  }
 },
 "nbformat": 4,
 "nbformat_minor": 4
}
