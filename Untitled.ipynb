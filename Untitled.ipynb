{
 "cells": [
  {
   "cell_type": "markdown",
   "metadata": {},
   "source": [
    "# Regression\n",
    "### 1. Reading the Dataset ¶ "
   ]
  },
  {
   "cell_type": "code",
   "execution_count": 109,
   "metadata": {},
   "outputs": [
    {
     "data": {
      "text/html": [
       "<div>\n",
       "<style scoped>\n",
       "    .dataframe tbody tr th:only-of-type {\n",
       "        vertical-align: middle;\n",
       "    }\n",
       "\n",
       "    .dataframe tbody tr th {\n",
       "        vertical-align: top;\n",
       "    }\n",
       "\n",
       "    .dataframe thead th {\n",
       "        text-align: right;\n",
       "    }\n",
       "</style>\n",
       "<table border=\"1\" class=\"dataframe\">\n",
       "  <thead>\n",
       "    <tr style=\"text-align: right;\">\n",
       "      <th></th>\n",
       "      <th>id</th>\n",
       "      <th>Вулиця</th>\n",
       "      <th>Район</th>\n",
       "      <th>Місто</th>\n",
       "      <th>Область</th>\n",
       "      <th>Дата</th>\n",
       "      <th>Тип нерухомості</th>\n",
       "      <th>Ціна</th>\n",
       "      <th>Тип ціни</th>\n",
       "      <th>Кімнат</th>\n",
       "      <th>...</th>\n",
       "      <th>Загальна площа</th>\n",
       "      <th>Житлова площа</th>\n",
       "      <th>Кухня</th>\n",
       "      <th>Стіни</th>\n",
       "      <th>Назва</th>\n",
       "      <th>Соток</th>\n",
       "      <th>Агенція</th>\n",
       "      <th>Користувач</th>\n",
       "      <th>Телефон</th>\n",
       "      <th>Опис</th>\n",
       "    </tr>\n",
       "  </thead>\n",
       "  <tbody>\n",
       "    <tr>\n",
       "      <th>0</th>\n",
       "      <td>0</td>\n",
       "      <td>Бандеры Степана улица</td>\n",
       "      <td>Галицький</td>\n",
       "      <td>Львів</td>\n",
       "      <td>Львівська</td>\n",
       "      <td>2018-10-12 14:40:23</td>\n",
       "      <td>Квартира</td>\n",
       "      <td>38000</td>\n",
       "      <td>$</td>\n",
       "      <td>2</td>\n",
       "      <td>...</td>\n",
       "      <td>51,1</td>\n",
       "      <td>15,5</td>\n",
       "      <td>16,5</td>\n",
       "      <td>цегла</td>\n",
       "      <td>NaN</td>\n",
       "      <td>NaN</td>\n",
       "      <td>NaN</td>\n",
       "      <td>Сергій</td>\n",
       "      <td>(095) 521-37-51</td>\n",
       "      <td>Продам 2-х комнатную квартиру по ул. Степана Б...</td>\n",
       "    </tr>\n",
       "    <tr>\n",
       "      <th>1</th>\n",
       "      <td>1</td>\n",
       "      <td>Беговая улица</td>\n",
       "      <td>Личаківський</td>\n",
       "      <td>Львів</td>\n",
       "      <td>Львівська</td>\n",
       "      <td>2018-09-10 09:59:47</td>\n",
       "      <td>Квартира</td>\n",
       "      <td>983614</td>\n",
       "      <td>грн</td>\n",
       "      <td>2</td>\n",
       "      <td>...</td>\n",
       "      <td>65,14</td>\n",
       "      <td>28,69</td>\n",
       "      <td>9,9</td>\n",
       "      <td>монолітно-цегляний</td>\n",
       "      <td>NaN</td>\n",
       "      <td>NaN</td>\n",
       "      <td>ЖК Щасливий</td>\n",
       "      <td>Відділ продажу Щасливий</td>\n",
       "      <td>(032) 294-94-80, (067) 663-99-51</td>\n",
       "      <td>Подключены коммуникации, интернет, работающие ...</td>\n",
       "    </tr>\n",
       "    <tr>\n",
       "      <th>2</th>\n",
       "      <td>2</td>\n",
       "      <td>Беговая улица, 17</td>\n",
       "      <td>Личаківський</td>\n",
       "      <td>Львів</td>\n",
       "      <td>Львівська</td>\n",
       "      <td>2018-09-10 10:00:56</td>\n",
       "      <td>Квартира</td>\n",
       "      <td>583730</td>\n",
       "      <td>грн</td>\n",
       "      <td>1</td>\n",
       "      <td>...</td>\n",
       "      <td>37,66</td>\n",
       "      <td>16,29</td>\n",
       "      <td>9,68</td>\n",
       "      <td>монолітно-цегляний</td>\n",
       "      <td>NaN</td>\n",
       "      <td>NaN</td>\n",
       "      <td>ЖК Щасливий</td>\n",
       "      <td>Відділ продажу Щасливий</td>\n",
       "      <td>(032) 294-94-80, (067) 663-99-51</td>\n",
       "      <td>Подключены коммуникации, интернет, работающие ...</td>\n",
       "    </tr>\n",
       "    <tr>\n",
       "      <th>3</th>\n",
       "      <td>3</td>\n",
       "      <td>Беговая улица</td>\n",
       "      <td>Личаківський</td>\n",
       "      <td>Львів</td>\n",
       "      <td>Львівська</td>\n",
       "      <td>2018-09-10 10:00:29</td>\n",
       "      <td>Квартира</td>\n",
       "      <td>613211</td>\n",
       "      <td>грн</td>\n",
       "      <td>1</td>\n",
       "      <td>...</td>\n",
       "      <td>40,61</td>\n",
       "      <td>19,04</td>\n",
       "      <td>9,56</td>\n",
       "      <td>монолітно-цегляний</td>\n",
       "      <td>NaN</td>\n",
       "      <td>NaN</td>\n",
       "      <td>ЖК Щасливий</td>\n",
       "      <td>Відділ продажу Щасливий</td>\n",
       "      <td>(032) 294-94-80, (067) 663-99-51</td>\n",
       "      <td>Подключены коммуникации, интернет, работающие ...</td>\n",
       "    </tr>\n",
       "    <tr>\n",
       "      <th>4</th>\n",
       "      <td>6</td>\n",
       "      <td>Беговая улица</td>\n",
       "      <td>Личаківський</td>\n",
       "      <td>Львів</td>\n",
       "      <td>Львівська</td>\n",
       "      <td>2018-09-05 15:40:30</td>\n",
       "      <td>Квартира</td>\n",
       "      <td>628160</td>\n",
       "      <td>грн</td>\n",
       "      <td>1</td>\n",
       "      <td>...</td>\n",
       "      <td>41,6</td>\n",
       "      <td>16,9</td>\n",
       "      <td>10,5</td>\n",
       "      <td>цегла</td>\n",
       "      <td>NaN</td>\n",
       "      <td>NaN</td>\n",
       "      <td>ЖК Щасливий</td>\n",
       "      <td>Відділ продажу Щасливий</td>\n",
       "      <td>(032) 294-94-80, (067) 663-99-51</td>\n",
       "      <td>Подключены коммуникации, интернет, работающие ...</td>\n",
       "    </tr>\n",
       "  </tbody>\n",
       "</table>\n",
       "<p>5 rows × 22 columns</p>\n",
       "</div>"
      ],
      "text/plain": [
       "   id                 Вулиця         Район  Місто    Область  \\\n",
       "0   0  Бандеры Степана улица     Галицький  Львів  Львівська   \n",
       "1   1          Беговая улица  Личаківський  Львів  Львівська   \n",
       "2   2      Беговая улица, 17  Личаківський  Львів  Львівська   \n",
       "3   3          Беговая улица  Личаківський  Львів  Львівська   \n",
       "4   6          Беговая улица  Личаківський  Львів  Львівська   \n",
       "\n",
       "                  Дата Тип нерухомості    Ціна Тип ціни  Кімнат  ...  \\\n",
       "0  2018-10-12 14:40:23        Квартира   38000        $       2  ...   \n",
       "1  2018-09-10 09:59:47        Квартира  983614      грн       2  ...   \n",
       "2  2018-09-10 10:00:56        Квартира  583730      грн       1  ...   \n",
       "3  2018-09-10 10:00:29        Квартира  613211      грн       1  ...   \n",
       "4  2018-09-05 15:40:30        Квартира  628160      грн       1  ...   \n",
       "\n",
       "   Загальна площа  Житлова площа Кухня               Стіни Назва Соток  \\\n",
       "0            51,1           15,5  16,5               цегла   NaN   NaN   \n",
       "1           65,14          28,69   9,9  монолітно-цегляний   NaN   NaN   \n",
       "2           37,66          16,29  9,68  монолітно-цегляний   NaN   NaN   \n",
       "3           40,61          19,04  9,56  монолітно-цегляний   NaN   NaN   \n",
       "4            41,6           16,9  10,5               цегла   NaN   NaN   \n",
       "\n",
       "       Агенція               Користувач                           Телефон  \\\n",
       "0          NaN                   Сергій                   (095) 521-37-51   \n",
       "1  ЖК Щасливий  Відділ продажу Щасливий  (032) 294-94-80, (067) 663-99-51   \n",
       "2  ЖК Щасливий  Відділ продажу Щасливий  (032) 294-94-80, (067) 663-99-51   \n",
       "3  ЖК Щасливий  Відділ продажу Щасливий  (032) 294-94-80, (067) 663-99-51   \n",
       "4  ЖК Щасливий  Відділ продажу Щасливий  (032) 294-94-80, (067) 663-99-51   \n",
       "\n",
       "                                                Опис  \n",
       "0  Продам 2-х комнатную квартиру по ул. Степана Б...  \n",
       "1  Подключены коммуникации, интернет, работающие ...  \n",
       "2  Подключены коммуникации, интернет, работающие ...  \n",
       "3  Подключены коммуникации, интернет, работающие ...  \n",
       "4  Подключены коммуникации, интернет, работающие ...  \n",
       "\n",
       "[5 rows x 22 columns]"
      ]
     },
     "execution_count": 109,
     "metadata": {},
     "output_type": "execute_result"
    }
   ],
   "source": [
    "import pandas as pd\n",
    "df_real_estate = pd.read_csv('real-estate-regression.csv')\n",
    "df_real_estate.head()"
   ]
  },
  {
   "cell_type": "markdown",
   "metadata": {},
   "source": [
    "### 2. Overview\n",
    "Columns:\n",
    "* **id** - id of the data row\n",
    "* **Вулиця** - the name of the street\n",
    "* **Район** - the area of the city\n",
    "* **Місто** - the city\n",
    "* **Область** - the city area\n",
    "* **Дата** - the date of the estate being posted on the data base\n",
    "* **Тип нерухомості** - the type of the real estate\n",
    "* **Ціна** - the price\n",
    "* **Тип ціни** - the currency\n",
    "* **Кімнат** - the number of rooms\n",
    "* **Поверх** - the floor of the real estate\n",
    "* **Поверховість** - the number of the floors in the estate\n",
    "* **Загальна площа** - the area of the estate\n",
    "* **Житлова площа** - the area of the estate inside\n",
    "* **Кухня** - the kitchen area\n",
    "* **Стіни** - the walls material\n",
    "* **Назва** - the name of the real estate\n",
    "* **Соток** - the area (1 sotka = 10 x 10 = 100 m2)\n",
    "* **Агенція** - the agency of the real estate\n",
    "* **Користувач** - the person or the agency that is selling\n",
    "* **Телефон** - the phone number\n",
    "* **Опис** - the description of the real estate"
   ]
  },
  {
   "cell_type": "code",
   "execution_count": 40,
   "metadata": {},
   "outputs": [],
   "source": [
    "# data science\n",
    "import numpy as np\n",
    "import pandas as pd\n",
    "import matplotlib.pyplot as plt\n",
    "import seaborn as sns\n",
    "# regression models\n",
    "from sklearn.preprocessing import StandardScaler # for feature scaling\n",
    "from sklearn.pipeline import Pipeline # for using pipeline\n",
    "from sklearn.linear_model import LinearRegression # for linear regression\n",
    "from sklearn.preprocessing import PolynomialFeatures # for adding polynomial features\n",
    "from sklearn.linear_model import Ridge # for ridge regression\n",
    "from sklearn.linear_model import Lasso # for lasso regression\n",
    "from sklearn.svm import SVR # for support vector regression\n",
    "from sklearn.tree import DecisionTreeRegressor # for decisiton tree regression\n",
    "from sklearn.ensemble import RandomForestRegressor # for random forest regression\n",
    "# hyptertuning\n",
    "from sklearn.model_selection import GridSearchCV\n",
    "from sklearn.model_selection import RandomizedSearchCV\n",
    "from scipy.stats import randint as sp_randint\n",
    "# extra\n",
    "from sklearn.metrics import r2_score\n",
    "from sklearn.metrics import mean_squared_error\n",
    "from sklearn.model_selection import cross_val_score\n",
    "from collections import Counter\n",
    "from IPython.core.display import display, HTML\n",
    "sns.set_style('darkgrid')"
   ]
  },
  {
   "cell_type": "markdown",
   "metadata": {},
   "source": [
    "### 3. Data Investigation"
   ]
  },
  {
   "cell_type": "code",
   "execution_count": 3,
   "metadata": {},
   "outputs": [
    {
     "data": {
      "text/plain": [
       "id                 1615\n",
       "Вулиця             1576\n",
       "Район              1551\n",
       "Місто              1615\n",
       "Область            1615\n",
       "Дата               1615\n",
       "Тип нерухомості    1615\n",
       "Ціна               1615\n",
       "Тип ціни           1615\n",
       "Кімнат             1615\n",
       "Поверх             1615\n",
       "Поверховість       1615\n",
       "Загальна площа     1615\n",
       "Житлова площа      1312\n",
       "Кухня              1392\n",
       "Стіни              1615\n",
       "Назва                 0\n",
       "Соток                 0\n",
       "Агенція             761\n",
       "Користувач         1305\n",
       "Телефон            1615\n",
       "Опис                674\n",
       "dtype: int64"
      ]
     },
     "execution_count": 3,
     "metadata": {},
     "output_type": "execute_result"
    }
   ],
   "source": [
    "df_real_estate.count()"
   ]
  },
  {
   "cell_type": "markdown",
   "metadata": {},
   "source": [
    "We'll change all the currencies to be dollars."
   ]
  },
  {
   "cell_type": "code",
   "execution_count": 93,
   "metadata": {},
   "outputs": [],
   "source": [
    "# const\n",
    "uah = 28.16\n",
    "df_real_estate.loc[(df_real_estate[\"Тип ціни\"] == '$'), \"Ціна\"] = df_real_estate[df_real_estate['Тип ціни'] == '$']['Ціна'].map(lambda price: uah * price)"
   ]
  },
  {
   "cell_type": "markdown",
   "metadata": {},
   "source": [
    "We can see that `Назва` and `Соток` can be dropped from the dataset.\\\n",
    "We'll drop the `id` column, because it would spoil the result of the data correlation.\\\n",
    "There is just one city `Lviv` in dataset, so we wouldn't need this column.\\\n",
    "This data only includes houses, like `flat`, so we'll drop column of type of the institution."
   ]
  },
  {
   "cell_type": "code",
   "execution_count": 112,
   "metadata": {},
   "outputs": [],
   "source": [
    "df_real_estate = df_real_estate.drop(['Тип нерухомості', 'Тип ціни', 'Назва', 'Соток', 'id', 'Область', 'Місто'], axis=1)"
   ]
  },
  {
   "cell_type": "code",
   "execution_count": 113,
   "metadata": {},
   "outputs": [
    {
     "data": {
      "text/plain": [
       "'Продам 2-х комнатную квартиру по ул. Степана Бандеры (около Органного зала). Мезонин.\\r\\r\\nВладелец, без посредников.\\r\\r\\nПольский дом.\\r\\r\\nКосметический ремонт, м / п окна\\r\\r\\nПарадный вход\\r\\r\\nСчетчики газ, электричество\\r\\r\\nЕсть подвал\\r\\r\\nКлюч от крыши.\\r\\r\\nДля риэлторов: дублировать объявления о продаже данной квартиры категорически запрещено. Сотрудничество возможно лишь при условии когда покупатель обратился к Вам.'"
      ]
     },
     "execution_count": 113,
     "metadata": {},
     "output_type": "execute_result"
    }
   ],
   "source": [
    "df_real_estate['Опис'][0]"
   ]
  },
  {
   "cell_type": "code",
   "execution_count": 114,
   "metadata": {},
   "outputs": [],
   "source": [
    "df_real_estate['Опис'] = df_real_estate['Опис'].map(lambda text: len(text.split()) if isinstance(text, str) else 0)"
   ]
  },
  {
   "cell_type": "code",
   "execution_count": 115,
   "metadata": {},
   "outputs": [
    {
     "data": {
      "text/plain": [
       "0        53\n",
       "1       208\n",
       "2       222\n",
       "3       238\n",
       "4       234\n",
       "       ... \n",
       "1610      0\n",
       "1611      0\n",
       "1612     33\n",
       "1613      0\n",
       "1614      0\n",
       "Name: Опис, Length: 1615, dtype: int64"
      ]
     },
     "execution_count": 115,
     "metadata": {},
     "output_type": "execute_result"
    }
   ],
   "source": [
    "df_real_estate['Користувач'] = df_real_estate['Користувач'].map(lambda text: len(text.split()) if isinstance(text, str) else 0)"
   ]
  },
  {
   "cell_type": "code",
   "execution_count": 116,
   "metadata": {},
   "outputs": [
    {
     "data": {
      "text/plain": [
       "{'AH \"RealBest\"',\n",
       " 'Exclusive',\n",
       " 'Imperial House',\n",
       " 'LORA',\n",
       " 'MATTIS',\n",
       " 'Sitalo Real Estate Lviv',\n",
       " 'SmartRealty',\n",
       " nan,\n",
       " 'Ідея Часу',\n",
       " 'Ірина',\n",
       " 'АН RealCity',\n",
       " 'АН Любе',\n",
       " 'АН Новий Дім',\n",
       " 'АН Світ нерухомості',\n",
       " 'Агентство Нерухомості \"Рентком\"',\n",
       " 'Агенція Комерційної Нерухомості \"inFocus\"',\n",
       " 'Богдан Іванович',\n",
       " 'Василь',\n",
       " 'Ваш Дім Стрий',\n",
       " 'Владимир ',\n",
       " 'Владислав',\n",
       " 'Відділ Продажу ЖК Рідний Дім',\n",
       " 'Вільне Місто',\n",
       " 'Віта',\n",
       " 'Галицький дім',\n",
       " 'Геннадий',\n",
       " 'Дім Нерухомості Львів',\n",
       " 'Елена',\n",
       " 'ЖК Софіївка',\n",
       " 'ЖК Щасливий',\n",
       " 'Затишна оселя',\n",
       " 'Имя не указано',\n",
       " 'Кирило Диковенко',\n",
       " 'Компанія Лазуліт',\n",
       " 'Консалтингова група \"АІСА\"',\n",
       " 'Леся',\n",
       " 'Лилия',\n",
       " 'Марія ',\n",
       " 'Микола Ковалевский',\n",
       " 'Мирослав',\n",
       " 'Місто Мрій',\n",
       " 'Надія',\n",
       " 'Наталія Соляник',\n",
       " 'Олександр',\n",
       " 'Олександра',\n",
       " 'Ольга',\n",
       " 'Олімпекс',\n",
       " 'Платинум',\n",
       " 'Свободи',\n",
       " 'Сергій Жовнерук',\n",
       " 'Тракт',\n",
       " 'Христина Блятник',\n",
       " 'Христина Магировська',\n",
       " 'Центр Нерухомості',\n",
       " 'Юридична консультація \"Профі\"',\n",
       " 'Юрий'}"
      ]
     },
     "execution_count": 116,
     "metadata": {},
     "output_type": "execute_result"
    }
   ],
   "source": [
    "set(df_real_estate['Агенція'])"
   ]
  },
  {
   "cell_type": "code",
   "execution_count": 5,
   "metadata": {},
   "outputs": [
    {
     "data": {
      "text/html": [
       "<div>\n",
       "<style scoped>\n",
       "    .dataframe tbody tr th:only-of-type {\n",
       "        vertical-align: middle;\n",
       "    }\n",
       "\n",
       "    .dataframe tbody tr th {\n",
       "        vertical-align: top;\n",
       "    }\n",
       "\n",
       "    .dataframe thead th {\n",
       "        text-align: right;\n",
       "    }\n",
       "</style>\n",
       "<table border=\"1\" class=\"dataframe\">\n",
       "  <thead>\n",
       "    <tr style=\"text-align: right;\">\n",
       "      <th></th>\n",
       "      <th>Ціна</th>\n",
       "      <th>Кімнат</th>\n",
       "      <th>Поверх</th>\n",
       "      <th>Поверховість</th>\n",
       "    </tr>\n",
       "  </thead>\n",
       "  <tbody>\n",
       "    <tr>\n",
       "      <th>count</th>\n",
       "      <td>1.615000e+03</td>\n",
       "      <td>1615.000000</td>\n",
       "      <td>1615.000000</td>\n",
       "      <td>1615.000000</td>\n",
       "    </tr>\n",
       "    <tr>\n",
       "      <th>mean</th>\n",
       "      <td>1.060037e+05</td>\n",
       "      <td>2.145511</td>\n",
       "      <td>4.756656</td>\n",
       "      <td>7.720743</td>\n",
       "    </tr>\n",
       "    <tr>\n",
       "      <th>std</th>\n",
       "      <td>2.372574e+05</td>\n",
       "      <td>1.042114</td>\n",
       "      <td>3.197870</td>\n",
       "      <td>3.727311</td>\n",
       "    </tr>\n",
       "    <tr>\n",
       "      <th>min</th>\n",
       "      <td>8.000000e+03</td>\n",
       "      <td>1.000000</td>\n",
       "      <td>0.000000</td>\n",
       "      <td>1.000000</td>\n",
       "    </tr>\n",
       "    <tr>\n",
       "      <th>25%</th>\n",
       "      <td>3.700000e+04</td>\n",
       "      <td>1.000000</td>\n",
       "      <td>2.000000</td>\n",
       "      <td>4.000000</td>\n",
       "    </tr>\n",
       "    <tr>\n",
       "      <th>50%</th>\n",
       "      <td>5.000000e+04</td>\n",
       "      <td>2.000000</td>\n",
       "      <td>4.000000</td>\n",
       "      <td>9.000000</td>\n",
       "    </tr>\n",
       "    <tr>\n",
       "      <th>75%</th>\n",
       "      <td>8.000000e+04</td>\n",
       "      <td>3.000000</td>\n",
       "      <td>7.000000</td>\n",
       "      <td>10.000000</td>\n",
       "    </tr>\n",
       "    <tr>\n",
       "      <th>max</th>\n",
       "      <td>2.712000e+06</td>\n",
       "      <td>8.000000</td>\n",
       "      <td>18.000000</td>\n",
       "      <td>22.000000</td>\n",
       "    </tr>\n",
       "  </tbody>\n",
       "</table>\n",
       "</div>"
      ],
      "text/plain": [
       "               Ціна       Кімнат       Поверх  Поверховість\n",
       "count  1.615000e+03  1615.000000  1615.000000   1615.000000\n",
       "mean   1.060037e+05     2.145511     4.756656      7.720743\n",
       "std    2.372574e+05     1.042114     3.197870      3.727311\n",
       "min    8.000000e+03     1.000000     0.000000      1.000000\n",
       "25%    3.700000e+04     1.000000     2.000000      4.000000\n",
       "50%    5.000000e+04     2.000000     4.000000      9.000000\n",
       "75%    8.000000e+04     3.000000     7.000000     10.000000\n",
       "max    2.712000e+06     8.000000    18.000000     22.000000"
      ]
     },
     "execution_count": 5,
     "metadata": {},
     "output_type": "execute_result"
    }
   ],
   "source": [
    "df_real_estate.describe()"
   ]
  },
  {
   "cell_type": "markdown",
   "metadata": {},
   "source": [
    "### 4. Data Visualization and Preprocessing "
   ]
  },
  {
   "cell_type": "code",
   "execution_count": 6,
   "metadata": {},
   "outputs": [
    {
     "data": {
      "text/plain": [
       "Вулиця              39\n",
       "Район               64\n",
       "Місто                0\n",
       "Область              0\n",
       "Дата                 0\n",
       "Тип нерухомості      0\n",
       "Ціна                 0\n",
       "Тип ціни             0\n",
       "Кімнат               0\n",
       "Поверх               0\n",
       "Поверховість         0\n",
       "Загальна площа       0\n",
       "Житлова площа      303\n",
       "Кухня              223\n",
       "Стіни                0\n",
       "Агенція            854\n",
       "Користувач         310\n",
       "Телефон              0\n",
       "Опис               941\n",
       "dtype: int64"
      ]
     },
     "execution_count": 6,
     "metadata": {},
     "output_type": "execute_result"
    }
   ],
   "source": [
    "df_real_estate.isnull().sum()"
   ]
  },
  {
   "cell_type": "markdown",
   "metadata": {},
   "source": [
    "We have quite a lot of `NaN` values.\\\n",
    "Let us suppose, how we can replace them.\\\n",
    "The `street` we can guess out of the `district` or replace with an empty string `' '`.\\\n",
    "The `description` we can convert into dummy ones.\\\n",
    "\\\n",
    "The `agency` and the `user` we can try to predict. Out of one another. And then convert them into dummy values, ageny - 1, a person - 0.\\\n",
    "\\\n",
    "The last, but not the least, we have two nomerous columns: `house area` and `kitchen`, that must have the replacement of the `NaN`'s to the number.\\\n",
    "We can replace the values with `mean` | `median` | `KNN value` | `MICE predicted value`. We'll see what works better.\\\n"
   ]
  },
  {
   "cell_type": "markdown",
   "metadata": {},
   "source": [
    "#### Let us visualize the data corelations"
   ]
  },
  {
   "cell_type": "code",
   "execution_count": 12,
   "metadata": {},
   "outputs": [
    {
     "data": {
      "image/png": "[encoded data removed]",
      "text/plain": [
       "<Figure size 720x576 with 2 Axes>"
      ]
     },
     "metadata": {},
     "output_type": "display_data"
    }
   ],
   "source": [
    "corr = df_real_estate.corr()\n",
    "#Plot figsize\n",
    "fig, ax = plt.subplots(figsize=(10, 8))\n",
    "#Generate Heat Map, allow annotations and place floats in map\n",
    "sns.heatmap(corr, cmap='coolwarm', annot=True, fmt=\".2f\")\n",
    "#Apply xticks\n",
    "plt.xticks(range(len(corr.columns)), corr.columns);\n",
    "#Apply yticks\n",
    "plt.yticks(range(len(corr.columns)), corr.columns)\n",
    "#show plot\n",
    "plt.show()"
   ]
  },
  {
   "cell_type": "code",
   "execution_count": 111,
   "metadata": {},
   "outputs": [
    {
     "data": {
      "image/png": "[encoded data removed]",
      "text/plain": [
       "<Figure size 1008x288 with 2 Axes>"
      ]
     },
     "metadata": {},
     "output_type": "display_data"
    }
   ],
   "source": [
    "f, axes = plt.subplots(1,2,figsize=(14, 4))\n",
    "\n",
    "df_real_estate['Загальна площа'] = df_real_estate['Загальна площа'].map(lambda x: x.replace(',', '.'))\n",
    "sns.distplot(df_real_estate['Загальна площа'], ax = axes[0])\n",
    "axes[0].set_xlabel('Area', fontsize=14)\n",
    "axes[0].set_ylabel('Count', fontsize=14)\n",
    "axes[0].yaxis.tick_left()\n",
    "\n",
    "# sns.scatterplot(x = 'Поверх', y = 'Поверховість', data = dataset, hue = 'smoker', ax = axes[1])\n",
    "# axes[1].set_xlabel('Charges', fontsize=14)\n",
    "# axes[1].set_ylabel('Age', fontsize=14)\n",
    "# axes[1].yaxis.set_label_position(\"right\")\n",
    "# axes[1].yaxis.tick_right()\n",
    "\n",
    "plt.show()"
   ]
  },
  {
   "cell_type": "code",
   "execution_count": 13,
   "metadata": {},
   "outputs": [],
   "source": []
  },
  {
   "cell_type": "code",
   "execution_count": 14,
   "metadata": {},
   "outputs": [
    {
     "data": {
      "text/plain": [
       "0        51.1\n",
       "1       65.14\n",
       "2       37.66\n",
       "3       40.61\n",
       "4        41.6\n",
       "        ...  \n",
       "1610       44\n",
       "1611     49.4\n",
       "1612       48\n",
       "1613       39\n",
       "1614       71\n",
       "Name: Загальна площа, Length: 1615, dtype: object"
      ]
     },
     "execution_count": 14,
     "metadata": {},
     "output_type": "execute_result"
    }
   ],
   "source": []
  },
  {
   "cell_type": "code",
   "execution_count": null,
   "metadata": {},
   "outputs": [],
   "source": []
  }
 ],
 "metadata": {
  "kernelspec": {
   "display_name": "Python 3",
   "language": "python",
   "name": "python3"
  },
  "language_info": {
   "codemirror_mode": {
    "name": "ipython",
    "version": 3
   },
   "file_extension": ".py",
   "mimetype": "text/x-python",
   "name": "python",
   "nbconvert_exporter": "python",
   "pygments_lexer": "ipython3",
   "version": "3.7.7"
  }
 },
 "nbformat": 4,
 "nbformat_minor": 4
}
